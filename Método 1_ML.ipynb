{
 "cells": [
  {
   "cell_type": "code",
   "execution_count": 218,
   "metadata": {},
   "outputs": [
    {
     "name": "stdout",
     "output_type": "stream",
     "text": [
      "recall= 0.5101125057, accuracy =0.7179985721\n"
     ]
    }
   ],
   "source": [
    "print('recall= 0.5101125057, accuracy =0.7179985721')"
   ]
  },
  {
   "cell_type": "markdown",
   "metadata": {},
   "source": [
    "# Modelo 1 de procesamiento de datos"
   ]
  },
  {
   "cell_type": "markdown",
   "metadata": {},
   "source": [
    "## 1. Análisis exploratorio de los datos"
   ]
  },
  {
   "cell_type": "code",
   "execution_count": 196,
   "metadata": {},
   "outputs": [],
   "source": [
    "#Importando las librerias\n",
    "import pandas as pd\n",
    "import numpy as np\n",
    "import matplotlib.pyplot as plt\n",
    "import seaborn as sn"
   ]
  },
  {
   "cell_type": "code",
   "execution_count": 186,
   "metadata": {},
   "outputs": [
    {
     "data": {
      "text/html": [
       "<div>\n",
       "<style scoped>\n",
       "    .dataframe tbody tr th:only-of-type {\n",
       "        vertical-align: middle;\n",
       "    }\n",
       "\n",
       "    .dataframe tbody tr th {\n",
       "        vertical-align: top;\n",
       "    }\n",
       "\n",
       "    .dataframe thead th {\n",
       "        text-align: right;\n",
       "    }\n",
       "</style>\n",
       "<table border=\"1\" class=\"dataframe\">\n",
       "  <thead>\n",
       "    <tr style=\"text-align: right;\">\n",
       "      <th></th>\n",
       "      <th>Unnamed: 0</th>\n",
       "      <th>id</th>\n",
       "      <th>ad_type</th>\n",
       "      <th>start_date</th>\n",
       "      <th>end_date</th>\n",
       "      <th>created_on</th>\n",
       "      <th>lat</th>\n",
       "      <th>lon</th>\n",
       "      <th>l1</th>\n",
       "      <th>l2</th>\n",
       "      <th>...</th>\n",
       "      <th>bathrooms</th>\n",
       "      <th>surface_total</th>\n",
       "      <th>surface_covered</th>\n",
       "      <th>currency</th>\n",
       "      <th>price_period</th>\n",
       "      <th>title</th>\n",
       "      <th>description</th>\n",
       "      <th>property_type</th>\n",
       "      <th>operation_type</th>\n",
       "      <th>geometry</th>\n",
       "    </tr>\n",
       "  </thead>\n",
       "  <tbody>\n",
       "    <tr>\n",
       "      <th>0</th>\n",
       "      <td>852569</td>\n",
       "      <td>pCiVu6rxpBq9dCZfYCXXgA==</td>\n",
       "      <td>Propiedad</td>\n",
       "      <td>2020-09-04</td>\n",
       "      <td>2020-09-12</td>\n",
       "      <td>2020-09-04</td>\n",
       "      <td>4.722000</td>\n",
       "      <td>-74.075000</td>\n",
       "      <td>Colombia</td>\n",
       "      <td>Cundinamarca</td>\n",
       "      <td>...</td>\n",
       "      <td>3.0</td>\n",
       "      <td>660.0</td>\n",
       "      <td>350.0</td>\n",
       "      <td>COP</td>\n",
       "      <td>NaN</td>\n",
       "      <td>Casa En Arriendo/venta En Bogota Sotileza Cod....</td>\n",
       "      <td>EXCLUSIVA CASA EN VENTA Y ARRIENDO, UBICADA EN...</td>\n",
       "      <td>Casa</td>\n",
       "      <td>Venta</td>\n",
       "      <td>POINT (-74.075 4.722)</td>\n",
       "    </tr>\n",
       "    <tr>\n",
       "      <th>1</th>\n",
       "      <td>121379</td>\n",
       "      <td>L0XSQ7mF1TWb1lHRg4n2+A==</td>\n",
       "      <td>Propiedad</td>\n",
       "      <td>2020-10-20</td>\n",
       "      <td>2020-10-20</td>\n",
       "      <td>2020-10-20</td>\n",
       "      <td>NaN</td>\n",
       "      <td>NaN</td>\n",
       "      <td>Colombia</td>\n",
       "      <td>Antioquia</td>\n",
       "      <td>...</td>\n",
       "      <td>3.0</td>\n",
       "      <td>NaN</td>\n",
       "      <td>NaN</td>\n",
       "      <td>COP</td>\n",
       "      <td>Mensual</td>\n",
       "      <td>SE VENDE APARTAMENTO EN EL SECTOR DE ZUÑIGA-EN...</td>\n",
       "      <td>PR 7555. Apartamento Duplex en unidad cerrada,...</td>\n",
       "      <td>Apartamento</td>\n",
       "      <td>Venta</td>\n",
       "      <td>POINT EMPTY</td>\n",
       "    </tr>\n",
       "    <tr>\n",
       "      <th>2</th>\n",
       "      <td>119504</td>\n",
       "      <td>FbWRxZOMNoUzVOLXgkum1A==</td>\n",
       "      <td>Propiedad</td>\n",
       "      <td>2020-10-20</td>\n",
       "      <td>2020-10-22</td>\n",
       "      <td>2020-10-20</td>\n",
       "      <td>6.259253</td>\n",
       "      <td>-75.628381</td>\n",
       "      <td>Colombia</td>\n",
       "      <td>Antioquia</td>\n",
       "      <td>...</td>\n",
       "      <td>1.0</td>\n",
       "      <td>NaN</td>\n",
       "      <td>NaN</td>\n",
       "      <td>COP</td>\n",
       "      <td>NaN</td>\n",
       "      <td>Casa Barata San Javier Solo por este mes</td>\n",
       "      <td>Casa compraventa escrituras en \\n proceso,sala...</td>\n",
       "      <td>Casa</td>\n",
       "      <td>Venta</td>\n",
       "      <td>POINT (-75.6283806 6.25925267)</td>\n",
       "    </tr>\n",
       "    <tr>\n",
       "      <th>3</th>\n",
       "      <td>227304</td>\n",
       "      <td>RUV1P+3UOmNdlJ9fBdWFyw==</td>\n",
       "      <td>Propiedad</td>\n",
       "      <td>2020-12-10</td>\n",
       "      <td>9999-12-31</td>\n",
       "      <td>2020-12-10</td>\n",
       "      <td>6.203000</td>\n",
       "      <td>-75.556000</td>\n",
       "      <td>Colombia</td>\n",
       "      <td>Antioquia</td>\n",
       "      <td>...</td>\n",
       "      <td>NaN</td>\n",
       "      <td>2793.0</td>\n",
       "      <td>NaN</td>\n",
       "      <td>COP</td>\n",
       "      <td>NaN</td>\n",
       "      <td>Lote En Venta En Medellin La Calera Cod. VRPR6330</td>\n",
       "      <td>CODIGO 6330LOTE PARA LA VENTA DE 2793MTS</td>\n",
       "      <td>Lote</td>\n",
       "      <td>Venta</td>\n",
       "      <td>POINT (-75.556 6.203)</td>\n",
       "    </tr>\n",
       "    <tr>\n",
       "      <th>4</th>\n",
       "      <td>228600</td>\n",
       "      <td>ifKutEAhyovuDNeYrFFV+A==</td>\n",
       "      <td>Propiedad</td>\n",
       "      <td>2020-12-10</td>\n",
       "      <td>2020-12-11</td>\n",
       "      <td>2020-12-10</td>\n",
       "      <td>NaN</td>\n",
       "      <td>NaN</td>\n",
       "      <td>Colombia</td>\n",
       "      <td>Antioquia</td>\n",
       "      <td>...</td>\n",
       "      <td>2.0</td>\n",
       "      <td>NaN</td>\n",
       "      <td>NaN</td>\n",
       "      <td>COP</td>\n",
       "      <td>NaN</td>\n",
       "      <td>Casa en Venta Ubicado en MEDELLIN</td>\n",
       "      <td>Codigo Inmueble 505457 Casa en venta en el sec...</td>\n",
       "      <td>Casa</td>\n",
       "      <td>Venta</td>\n",
       "      <td>POINT EMPTY</td>\n",
       "    </tr>\n",
       "  </tbody>\n",
       "</table>\n",
       "<p>5 rows × 26 columns</p>\n",
       "</div>"
      ],
      "text/plain": [
       "   Unnamed: 0                        id    ad_type  start_date    end_date  \\\n",
       "0      852569  pCiVu6rxpBq9dCZfYCXXgA==  Propiedad  2020-09-04  2020-09-12   \n",
       "1      121379  L0XSQ7mF1TWb1lHRg4n2+A==  Propiedad  2020-10-20  2020-10-20   \n",
       "2      119504  FbWRxZOMNoUzVOLXgkum1A==  Propiedad  2020-10-20  2020-10-22   \n",
       "3      227304  RUV1P+3UOmNdlJ9fBdWFyw==  Propiedad  2020-12-10  9999-12-31   \n",
       "4      228600  ifKutEAhyovuDNeYrFFV+A==  Propiedad  2020-12-10  2020-12-11   \n",
       "\n",
       "   created_on       lat        lon        l1            l2  ... bathrooms  \\\n",
       "0  2020-09-04  4.722000 -74.075000  Colombia  Cundinamarca  ...       3.0   \n",
       "1  2020-10-20       NaN        NaN  Colombia     Antioquia  ...       3.0   \n",
       "2  2020-10-20  6.259253 -75.628381  Colombia     Antioquia  ...       1.0   \n",
       "3  2020-12-10  6.203000 -75.556000  Colombia     Antioquia  ...       NaN   \n",
       "4  2020-12-10       NaN        NaN  Colombia     Antioquia  ...       2.0   \n",
       "\n",
       "  surface_total surface_covered currency  price_period  \\\n",
       "0         660.0           350.0      COP           NaN   \n",
       "1           NaN             NaN      COP       Mensual   \n",
       "2           NaN             NaN      COP           NaN   \n",
       "3        2793.0             NaN      COP           NaN   \n",
       "4           NaN             NaN      COP           NaN   \n",
       "\n",
       "                                               title  \\\n",
       "0  Casa En Arriendo/venta En Bogota Sotileza Cod....   \n",
       "1  SE VENDE APARTAMENTO EN EL SECTOR DE ZUÑIGA-EN...   \n",
       "2           Casa Barata San Javier Solo por este mes   \n",
       "3  Lote En Venta En Medellin La Calera Cod. VRPR6330   \n",
       "4                  Casa en Venta Ubicado en MEDELLIN   \n",
       "\n",
       "                                         description  property_type  \\\n",
       "0  EXCLUSIVA CASA EN VENTA Y ARRIENDO, UBICADA EN...           Casa   \n",
       "1  PR 7555. Apartamento Duplex en unidad cerrada,...    Apartamento   \n",
       "2  Casa compraventa escrituras en \\n proceso,sala...           Casa   \n",
       "3           CODIGO 6330LOTE PARA LA VENTA DE 2793MTS           Lote   \n",
       "4  Codigo Inmueble 505457 Casa en venta en el sec...           Casa   \n",
       "\n",
       "   operation_type                        geometry  \n",
       "0           Venta           POINT (-74.075 4.722)  \n",
       "1           Venta                     POINT EMPTY  \n",
       "2           Venta  POINT (-75.6283806 6.25925267)  \n",
       "3           Venta           POINT (-75.556 6.203)  \n",
       "4           Venta                     POINT EMPTY  \n",
       "\n",
       "[5 rows x 26 columns]"
      ]
     },
     "execution_count": 186,
     "metadata": {},
     "output_type": "execute_result"
    }
   ],
   "source": [
    "#Cargando archivo  de test\n",
    "data_test = pd.read_csv('./properties_colombia_test.csv')\n",
    "data_test.head()"
   ]
  },
  {
   "cell_type": "code",
   "execution_count": 86,
   "metadata": {},
   "outputs": [
    {
     "data": {
      "text/html": [
       "<div>\n",
       "<style scoped>\n",
       "    .dataframe tbody tr th:only-of-type {\n",
       "        vertical-align: middle;\n",
       "    }\n",
       "\n",
       "    .dataframe tbody tr th {\n",
       "        vertical-align: top;\n",
       "    }\n",
       "\n",
       "    .dataframe thead th {\n",
       "        text-align: right;\n",
       "    }\n",
       "</style>\n",
       "<table border=\"1\" class=\"dataframe\">\n",
       "  <thead>\n",
       "    <tr style=\"text-align: right;\">\n",
       "      <th></th>\n",
       "      <th>Unnamed: 0</th>\n",
       "      <th>id</th>\n",
       "      <th>ad_type</th>\n",
       "      <th>start_date</th>\n",
       "      <th>end_date</th>\n",
       "      <th>created_on</th>\n",
       "      <th>lat</th>\n",
       "      <th>lon</th>\n",
       "      <th>l1</th>\n",
       "      <th>l2</th>\n",
       "      <th>...</th>\n",
       "      <th>surface_total</th>\n",
       "      <th>surface_covered</th>\n",
       "      <th>price</th>\n",
       "      <th>currency</th>\n",
       "      <th>price_period</th>\n",
       "      <th>title</th>\n",
       "      <th>description</th>\n",
       "      <th>property_type</th>\n",
       "      <th>operation_type</th>\n",
       "      <th>geometry</th>\n",
       "    </tr>\n",
       "  </thead>\n",
       "  <tbody>\n",
       "    <tr>\n",
       "      <th>0</th>\n",
       "      <td>861131</td>\n",
       "      <td>CScTjaFiP6yCzS8tFX0ZVA==</td>\n",
       "      <td>Propiedad</td>\n",
       "      <td>2020-12-14</td>\n",
       "      <td>9999-12-31</td>\n",
       "      <td>2020-12-14</td>\n",
       "      <td>6.203000</td>\n",
       "      <td>-75.572000</td>\n",
       "      <td>Colombia</td>\n",
       "      <td>Antioquia</td>\n",
       "      <td>...</td>\n",
       "      <td>NaN</td>\n",
       "      <td>NaN</td>\n",
       "      <td>9.000000e+09</td>\n",
       "      <td>COP</td>\n",
       "      <td>NaN</td>\n",
       "      <td>Hermosa Mansión En El Poblado. Área Construida...</td>\n",
       "      <td>&lt;b&gt;Hermosa Mansión En El Poblado. Área Constru...</td>\n",
       "      <td>Casa</td>\n",
       "      <td>Venta</td>\n",
       "      <td>POINT (-75.572 6.203)</td>\n",
       "    </tr>\n",
       "    <tr>\n",
       "      <th>1</th>\n",
       "      <td>200972</td>\n",
       "      <td>DlCxox9+FuugkxS2kBVfJg==</td>\n",
       "      <td>Propiedad</td>\n",
       "      <td>2020-09-16</td>\n",
       "      <td>2021-05-14</td>\n",
       "      <td>2020-09-16</td>\n",
       "      <td>4.722748</td>\n",
       "      <td>-74.073115</td>\n",
       "      <td>Colombia</td>\n",
       "      <td>Cundinamarca</td>\n",
       "      <td>...</td>\n",
       "      <td>NaN</td>\n",
       "      <td>NaN</td>\n",
       "      <td>6.250000e+08</td>\n",
       "      <td>COP</td>\n",
       "      <td>NaN</td>\n",
       "      <td>APARTAMENTO EN VENTA, BOGOTA-CIUDAD JARDIN NORTE</td>\n",
       "      <td>Venta apartamento en piso 16 con vista exterio...</td>\n",
       "      <td>Apartamento</td>\n",
       "      <td>Venta</td>\n",
       "      <td>POINT (-74.0731146 4.7227485)</td>\n",
       "    </tr>\n",
       "    <tr>\n",
       "      <th>2</th>\n",
       "      <td>554622</td>\n",
       "      <td>yitN1AigL45gh/K2YSF8rw==</td>\n",
       "      <td>Propiedad</td>\n",
       "      <td>2020-08-19</td>\n",
       "      <td>2020-08-20</td>\n",
       "      <td>2020-08-19</td>\n",
       "      <td>4.709000</td>\n",
       "      <td>-74.030000</td>\n",
       "      <td>Colombia</td>\n",
       "      <td>Cundinamarca</td>\n",
       "      <td>...</td>\n",
       "      <td>NaN</td>\n",
       "      <td>NaN</td>\n",
       "      <td>4.200000e+08</td>\n",
       "      <td>COP</td>\n",
       "      <td>NaN</td>\n",
       "      <td>Apartamento En Venta En Bogota Bella Suiza Cod...</td>\n",
       "      <td>Al entrar a este bonito apartamento interior e...</td>\n",
       "      <td>Casa</td>\n",
       "      <td>Venta</td>\n",
       "      <td>POINT (-74.03 4.709)</td>\n",
       "    </tr>\n",
       "    <tr>\n",
       "      <th>3</th>\n",
       "      <td>540321</td>\n",
       "      <td>hELQ9njwODbLMpATXieRdQ==</td>\n",
       "      <td>Propiedad</td>\n",
       "      <td>2020-11-23</td>\n",
       "      <td>2020-11-30</td>\n",
       "      <td>2020-11-23</td>\n",
       "      <td>NaN</td>\n",
       "      <td>NaN</td>\n",
       "      <td>Colombia</td>\n",
       "      <td>Santander</td>\n",
       "      <td>...</td>\n",
       "      <td>NaN</td>\n",
       "      <td>NaN</td>\n",
       "      <td>1.310000e+09</td>\n",
       "      <td>COP</td>\n",
       "      <td>NaN</td>\n",
       "      <td>SE VENDE LOCAL COMERCIAL EN CABECERA DEL LLANO...</td>\n",
       "      <td>Se encuentra ubicado en el sector de la Cabece...</td>\n",
       "      <td>Otro</td>\n",
       "      <td>Venta</td>\n",
       "      <td>POINT EMPTY</td>\n",
       "    </tr>\n",
       "    <tr>\n",
       "      <th>4</th>\n",
       "      <td>448920</td>\n",
       "      <td>aBCtKT7LDzt2CxJQ+gVFEA==</td>\n",
       "      <td>Propiedad</td>\n",
       "      <td>2020-10-06</td>\n",
       "      <td>2020-10-07</td>\n",
       "      <td>2020-10-06</td>\n",
       "      <td>NaN</td>\n",
       "      <td>NaN</td>\n",
       "      <td>Colombia</td>\n",
       "      <td>Antioquia</td>\n",
       "      <td>...</td>\n",
       "      <td>NaN</td>\n",
       "      <td>NaN</td>\n",
       "      <td>2.100000e+08</td>\n",
       "      <td>COP</td>\n",
       "      <td>NaN</td>\n",
       "      <td>Apartamento en Venta Ubicado en ITAGUI</td>\n",
       "      <td>Codigo Inmueble 4302 Apartamento con 3 habitac...</td>\n",
       "      <td>Apartamento</td>\n",
       "      <td>Venta</td>\n",
       "      <td>POINT EMPTY</td>\n",
       "    </tr>\n",
       "  </tbody>\n",
       "</table>\n",
       "<p>5 rows × 27 columns</p>\n",
       "</div>"
      ],
      "text/plain": [
       "   Unnamed: 0                        id    ad_type  start_date    end_date  \\\n",
       "0      861131  CScTjaFiP6yCzS8tFX0ZVA==  Propiedad  2020-12-14  9999-12-31   \n",
       "1      200972  DlCxox9+FuugkxS2kBVfJg==  Propiedad  2020-09-16  2021-05-14   \n",
       "2      554622  yitN1AigL45gh/K2YSF8rw==  Propiedad  2020-08-19  2020-08-20   \n",
       "3      540321  hELQ9njwODbLMpATXieRdQ==  Propiedad  2020-11-23  2020-11-30   \n",
       "4      448920  aBCtKT7LDzt2CxJQ+gVFEA==  Propiedad  2020-10-06  2020-10-07   \n",
       "\n",
       "   created_on       lat        lon        l1            l2  ... surface_total  \\\n",
       "0  2020-12-14  6.203000 -75.572000  Colombia     Antioquia  ...           NaN   \n",
       "1  2020-09-16  4.722748 -74.073115  Colombia  Cundinamarca  ...           NaN   \n",
       "2  2020-08-19  4.709000 -74.030000  Colombia  Cundinamarca  ...           NaN   \n",
       "3  2020-11-23       NaN        NaN  Colombia     Santander  ...           NaN   \n",
       "4  2020-10-06       NaN        NaN  Colombia     Antioquia  ...           NaN   \n",
       "\n",
       "  surface_covered         price currency  price_period  \\\n",
       "0             NaN  9.000000e+09      COP           NaN   \n",
       "1             NaN  6.250000e+08      COP           NaN   \n",
       "2             NaN  4.200000e+08      COP           NaN   \n",
       "3             NaN  1.310000e+09      COP           NaN   \n",
       "4             NaN  2.100000e+08      COP           NaN   \n",
       "\n",
       "                                               title  \\\n",
       "0  Hermosa Mansión En El Poblado. Área Construida...   \n",
       "1   APARTAMENTO EN VENTA, BOGOTA-CIUDAD JARDIN NORTE   \n",
       "2  Apartamento En Venta En Bogota Bella Suiza Cod...   \n",
       "3  SE VENDE LOCAL COMERCIAL EN CABECERA DEL LLANO...   \n",
       "4             Apartamento en Venta Ubicado en ITAGUI   \n",
       "\n",
       "                                         description  property_type  \\\n",
       "0  <b>Hermosa Mansión En El Poblado. Área Constru...           Casa   \n",
       "1  Venta apartamento en piso 16 con vista exterio...    Apartamento   \n",
       "2  Al entrar a este bonito apartamento interior e...           Casa   \n",
       "3  Se encuentra ubicado en el sector de la Cabece...           Otro   \n",
       "4  Codigo Inmueble 4302 Apartamento con 3 habitac...    Apartamento   \n",
       "\n",
       "   operation_type                       geometry  \n",
       "0           Venta          POINT (-75.572 6.203)  \n",
       "1           Venta  POINT (-74.0731146 4.7227485)  \n",
       "2           Venta           POINT (-74.03 4.709)  \n",
       "3           Venta                    POINT EMPTY  \n",
       "4           Venta                    POINT EMPTY  \n",
       "\n",
       "[5 rows x 27 columns]"
      ]
     },
     "execution_count": 86,
     "metadata": {},
     "output_type": "execute_result"
    }
   ],
   "source": [
    "# Lectura del archivo de Train\n",
    "data_train = pd.read_csv('./properties_colombia_train.csv')\n",
    "data_train.head()"
   ]
  },
  {
   "cell_type": "code",
   "execution_count": 87,
   "metadata": {},
   "outputs": [
    {
     "data": {
      "text/html": [
       "<div>\n",
       "<style scoped>\n",
       "    .dataframe tbody tr th:only-of-type {\n",
       "        vertical-align: middle;\n",
       "    }\n",
       "\n",
       "    .dataframe tbody tr th {\n",
       "        vertical-align: top;\n",
       "    }\n",
       "\n",
       "    .dataframe thead th {\n",
       "        text-align: right;\n",
       "    }\n",
       "</style>\n",
       "<table border=\"1\" class=\"dataframe\">\n",
       "  <thead>\n",
       "    <tr style=\"text-align: right;\">\n",
       "      <th></th>\n",
       "      <th>Unnamed: 0</th>\n",
       "      <th>lat</th>\n",
       "      <th>lon</th>\n",
       "      <th>rooms</th>\n",
       "      <th>bedrooms</th>\n",
       "      <th>bathrooms</th>\n",
       "      <th>surface_total</th>\n",
       "      <th>surface_covered</th>\n",
       "    </tr>\n",
       "  </thead>\n",
       "  <tbody>\n",
       "    <tr>\n",
       "      <th>count</th>\n",
       "      <td>65850.000000</td>\n",
       "      <td>49433.000000</td>\n",
       "      <td>49433.000000</td>\n",
       "      <td>9110.000000</td>\n",
       "      <td>13403.000000</td>\n",
       "      <td>52054.000000</td>\n",
       "      <td>2314.000000</td>\n",
       "      <td>3.305000e+03</td>\n",
       "    </tr>\n",
       "    <tr>\n",
       "      <th>mean</th>\n",
       "      <td>500260.289263</td>\n",
       "      <td>5.686868</td>\n",
       "      <td>-75.042164</td>\n",
       "      <td>3.282327</td>\n",
       "      <td>3.236813</td>\n",
       "      <td>2.639624</td>\n",
       "      <td>1355.283924</td>\n",
       "      <td>5.616338e+03</td>\n",
       "    </tr>\n",
       "    <tr>\n",
       "      <th>std</th>\n",
       "      <td>290438.140244</td>\n",
       "      <td>2.217177</td>\n",
       "      <td>1.098202</td>\n",
       "      <td>1.702092</td>\n",
       "      <td>1.972357</td>\n",
       "      <td>1.426015</td>\n",
       "      <td>9409.882547</td>\n",
       "      <td>3.012933e+05</td>\n",
       "    </tr>\n",
       "    <tr>\n",
       "      <th>min</th>\n",
       "      <td>4.000000</td>\n",
       "      <td>-4.203165</td>\n",
       "      <td>-81.705052</td>\n",
       "      <td>1.000000</td>\n",
       "      <td>0.000000</td>\n",
       "      <td>1.000000</td>\n",
       "      <td>10.000000</td>\n",
       "      <td>1.000000e+00</td>\n",
       "    </tr>\n",
       "    <tr>\n",
       "      <th>25%</th>\n",
       "      <td>235030.500000</td>\n",
       "      <td>4.582000</td>\n",
       "      <td>-75.644727</td>\n",
       "      <td>3.000000</td>\n",
       "      <td>3.000000</td>\n",
       "      <td>2.000000</td>\n",
       "      <td>74.000000</td>\n",
       "      <td>7.100000e+01</td>\n",
       "    </tr>\n",
       "    <tr>\n",
       "      <th>50%</th>\n",
       "      <td>509299.500000</td>\n",
       "      <td>4.918677</td>\n",
       "      <td>-75.476071</td>\n",
       "      <td>3.000000</td>\n",
       "      <td>3.000000</td>\n",
       "      <td>2.000000</td>\n",
       "      <td>120.000000</td>\n",
       "      <td>1.150000e+02</td>\n",
       "    </tr>\n",
       "    <tr>\n",
       "      <th>75%</th>\n",
       "      <td>772024.500000</td>\n",
       "      <td>6.251822</td>\n",
       "      <td>-74.094765</td>\n",
       "      <td>4.000000</td>\n",
       "      <td>4.000000</td>\n",
       "      <td>3.000000</td>\n",
       "      <td>274.500000</td>\n",
       "      <td>2.130000e+02</td>\n",
       "    </tr>\n",
       "    <tr>\n",
       "      <th>max</th>\n",
       "      <td>993559.000000</td>\n",
       "      <td>13.338761</td>\n",
       "      <td>-67.924336</td>\n",
       "      <td>40.000000</td>\n",
       "      <td>60.000000</td>\n",
       "      <td>20.000000</td>\n",
       "      <td>200000.000000</td>\n",
       "      <td>1.732000e+07</td>\n",
       "    </tr>\n",
       "  </tbody>\n",
       "</table>\n",
       "</div>"
      ],
      "text/plain": [
       "          Unnamed: 0           lat           lon        rooms      bedrooms  \\\n",
       "count   65850.000000  49433.000000  49433.000000  9110.000000  13403.000000   \n",
       "mean   500260.289263      5.686868    -75.042164     3.282327      3.236813   \n",
       "std    290438.140244      2.217177      1.098202     1.702092      1.972357   \n",
       "min         4.000000     -4.203165    -81.705052     1.000000      0.000000   \n",
       "25%    235030.500000      4.582000    -75.644727     3.000000      3.000000   \n",
       "50%    509299.500000      4.918677    -75.476071     3.000000      3.000000   \n",
       "75%    772024.500000      6.251822    -74.094765     4.000000      4.000000   \n",
       "max    993559.000000     13.338761    -67.924336    40.000000     60.000000   \n",
       "\n",
       "          bathrooms  surface_total  surface_covered  \n",
       "count  52054.000000    2314.000000     3.305000e+03  \n",
       "mean       2.639624    1355.283924     5.616338e+03  \n",
       "std        1.426015    9409.882547     3.012933e+05  \n",
       "min        1.000000      10.000000     1.000000e+00  \n",
       "25%        2.000000      74.000000     7.100000e+01  \n",
       "50%        2.000000     120.000000     1.150000e+02  \n",
       "75%        3.000000     274.500000     2.130000e+02  \n",
       "max       20.000000  200000.000000     1.732000e+07  "
      ]
     },
     "execution_count": 87,
     "metadata": {},
     "output_type": "execute_result"
    }
   ],
   "source": [
    "#Información estáditica de las variables\n",
    "data_test.describe()"
   ]
  },
  {
   "cell_type": "code",
   "execution_count": 88,
   "metadata": {},
   "outputs": [
    {
     "data": {
      "text/plain": [
       "(65850, 26)"
      ]
     },
     "execution_count": 88,
     "metadata": {},
     "output_type": "execute_result"
    }
   ],
   "source": [
    "# Verificando la dimensión de los datos de test\n",
    "data_test.shape"
   ]
  },
  {
   "cell_type": "code",
   "execution_count": 89,
   "metadata": {},
   "outputs": [
    {
     "data": {
      "text/html": [
       "<div>\n",
       "<style scoped>\n",
       "    .dataframe tbody tr th:only-of-type {\n",
       "        vertical-align: middle;\n",
       "    }\n",
       "\n",
       "    .dataframe tbody tr th {\n",
       "        vertical-align: top;\n",
       "    }\n",
       "\n",
       "    .dataframe thead th {\n",
       "        text-align: right;\n",
       "    }\n",
       "</style>\n",
       "<table border=\"1\" class=\"dataframe\">\n",
       "  <thead>\n",
       "    <tr style=\"text-align: right;\">\n",
       "      <th></th>\n",
       "      <th>Unnamed: 0</th>\n",
       "      <th>lat</th>\n",
       "      <th>lon</th>\n",
       "      <th>rooms</th>\n",
       "      <th>bedrooms</th>\n",
       "      <th>bathrooms</th>\n",
       "      <th>surface_total</th>\n",
       "      <th>surface_covered</th>\n",
       "      <th>price</th>\n",
       "    </tr>\n",
       "  </thead>\n",
       "  <tbody>\n",
       "    <tr>\n",
       "      <th>count</th>\n",
       "      <td>197549.000000</td>\n",
       "      <td>148051.000000</td>\n",
       "      <td>148051.000000</td>\n",
       "      <td>27537.000000</td>\n",
       "      <td>40525.000000</td>\n",
       "      <td>156467.000000</td>\n",
       "      <td>6974.000000</td>\n",
       "      <td>9.802000e+03</td>\n",
       "      <td>1.974860e+05</td>\n",
       "    </tr>\n",
       "    <tr>\n",
       "      <th>mean</th>\n",
       "      <td>497437.843851</td>\n",
       "      <td>5.666001</td>\n",
       "      <td>-75.041045</td>\n",
       "      <td>3.291208</td>\n",
       "      <td>3.239062</td>\n",
       "      <td>2.639279</td>\n",
       "      <td>1352.132349</td>\n",
       "      <td>9.483356e+02</td>\n",
       "      <td>6.436051e+08</td>\n",
       "    </tr>\n",
       "    <tr>\n",
       "      <th>std</th>\n",
       "      <td>290023.578338</td>\n",
       "      <td>2.196804</td>\n",
       "      <td>1.104575</td>\n",
       "      <td>1.754795</td>\n",
       "      <td>1.985636</td>\n",
       "      <td>1.437174</td>\n",
       "      <td>7713.769352</td>\n",
       "      <td>3.730875e+04</td>\n",
       "      <td>1.944868e+09</td>\n",
       "    </tr>\n",
       "    <tr>\n",
       "      <th>min</th>\n",
       "      <td>0.000000</td>\n",
       "      <td>-32.787342</td>\n",
       "      <td>-119.698190</td>\n",
       "      <td>1.000000</td>\n",
       "      <td>0.000000</td>\n",
       "      <td>1.000000</td>\n",
       "      <td>10.000000</td>\n",
       "      <td>1.000000e+00</td>\n",
       "      <td>0.000000e+00</td>\n",
       "    </tr>\n",
       "    <tr>\n",
       "      <th>25%</th>\n",
       "      <td>234211.000000</td>\n",
       "      <td>4.582315</td>\n",
       "      <td>-75.645126</td>\n",
       "      <td>3.000000</td>\n",
       "      <td>3.000000</td>\n",
       "      <td>2.000000</td>\n",
       "      <td>72.000000</td>\n",
       "      <td>7.100000e+01</td>\n",
       "      <td>2.000000e+08</td>\n",
       "    </tr>\n",
       "    <tr>\n",
       "      <th>50%</th>\n",
       "      <td>507385.000000</td>\n",
       "      <td>4.908611</td>\n",
       "      <td>-75.476654</td>\n",
       "      <td>3.000000</td>\n",
       "      <td>3.000000</td>\n",
       "      <td>2.000000</td>\n",
       "      <td>120.000000</td>\n",
       "      <td>1.140000e+02</td>\n",
       "      <td>3.300000e+08</td>\n",
       "    </tr>\n",
       "    <tr>\n",
       "      <th>75%</th>\n",
       "      <td>770037.000000</td>\n",
       "      <td>6.248101</td>\n",
       "      <td>-74.094001</td>\n",
       "      <td>4.000000</td>\n",
       "      <td>4.000000</td>\n",
       "      <td>3.000000</td>\n",
       "      <td>281.000000</td>\n",
       "      <td>2.160000e+02</td>\n",
       "      <td>6.000000e+08</td>\n",
       "    </tr>\n",
       "    <tr>\n",
       "      <th>max</th>\n",
       "      <td>993551.000000</td>\n",
       "      <td>34.420334</td>\n",
       "      <td>-67.482570</td>\n",
       "      <td>40.000000</td>\n",
       "      <td>96.000000</td>\n",
       "      <td>20.000000</td>\n",
       "      <td>180000.000000</td>\n",
       "      <td>3.480000e+06</td>\n",
       "      <td>3.450000e+11</td>\n",
       "    </tr>\n",
       "  </tbody>\n",
       "</table>\n",
       "</div>"
      ],
      "text/plain": [
       "          Unnamed: 0            lat            lon         rooms  \\\n",
       "count  197549.000000  148051.000000  148051.000000  27537.000000   \n",
       "mean   497437.843851       5.666001     -75.041045      3.291208   \n",
       "std    290023.578338       2.196804       1.104575      1.754795   \n",
       "min         0.000000     -32.787342    -119.698190      1.000000   \n",
       "25%    234211.000000       4.582315     -75.645126      3.000000   \n",
       "50%    507385.000000       4.908611     -75.476654      3.000000   \n",
       "75%    770037.000000       6.248101     -74.094001      4.000000   \n",
       "max    993551.000000      34.420334     -67.482570     40.000000   \n",
       "\n",
       "           bedrooms      bathrooms  surface_total  surface_covered  \\\n",
       "count  40525.000000  156467.000000    6974.000000     9.802000e+03   \n",
       "mean       3.239062       2.639279    1352.132349     9.483356e+02   \n",
       "std        1.985636       1.437174    7713.769352     3.730875e+04   \n",
       "min        0.000000       1.000000      10.000000     1.000000e+00   \n",
       "25%        3.000000       2.000000      72.000000     7.100000e+01   \n",
       "50%        3.000000       2.000000     120.000000     1.140000e+02   \n",
       "75%        4.000000       3.000000     281.000000     2.160000e+02   \n",
       "max       96.000000      20.000000  180000.000000     3.480000e+06   \n",
       "\n",
       "              price  \n",
       "count  1.974860e+05  \n",
       "mean   6.436051e+08  \n",
       "std    1.944868e+09  \n",
       "min    0.000000e+00  \n",
       "25%    2.000000e+08  \n",
       "50%    3.300000e+08  \n",
       "75%    6.000000e+08  \n",
       "max    3.450000e+11  "
      ]
     },
     "execution_count": 89,
     "metadata": {},
     "output_type": "execute_result"
    }
   ],
   "source": [
    "# Verificando medidas estadíticas del archivo de train\n",
    "data_train.describe()"
   ]
  },
  {
   "cell_type": "code",
   "execution_count": 90,
   "metadata": {},
   "outputs": [
    {
     "name": "stdout",
     "output_type": "stream",
     "text": [
      "La dimensión de los datos de train es:  (197549, 27)\n",
      "La media del precio de los datos es:  643605091.0064613\n"
     ]
    }
   ],
   "source": [
    "# Obteniendo dimenciones del dataset y media del precio antes de procesar los datos\n",
    "print('La dimensión de los datos de train es: ', data_train.shape)\n",
    "data_train_mean = data_train['price'].mean()\n",
    "print('La media del precio de los datos es: ', data_train_mean)\n"
   ]
  },
  {
   "cell_type": "code",
   "execution_count": 91,
   "metadata": {},
   "outputs": [
    {
     "data": {
      "text/plain": [
       "Unnamed: 0           int64\n",
       "id                  object\n",
       "ad_type             object\n",
       "start_date          object\n",
       "end_date            object\n",
       "created_on          object\n",
       "lat                float64\n",
       "lon                float64\n",
       "l1                  object\n",
       "l2                  object\n",
       "l3                  object\n",
       "l4                  object\n",
       "l5                  object\n",
       "l6                  object\n",
       "rooms              float64\n",
       "bedrooms           float64\n",
       "bathrooms          float64\n",
       "surface_total      float64\n",
       "surface_covered    float64\n",
       "price              float64\n",
       "currency            object\n",
       "price_period        object\n",
       "title               object\n",
       "description         object\n",
       "property_type       object\n",
       "operation_type      object\n",
       "geometry            object\n",
       "dtype: object"
      ]
     },
     "execution_count": 91,
     "metadata": {},
     "output_type": "execute_result"
    }
   ],
   "source": [
    "# Verificando el tipo de variables en los datasets\n",
    "\n",
    "#data_test.dtypes\n",
    "data_train.dtypes"
   ]
  },
  {
   "cell_type": "code",
   "execution_count": 92,
   "metadata": {},
   "outputs": [
    {
     "data": {
      "text/plain": [
       "Propiedad    197549\n",
       "Name: ad_type, dtype: int64"
      ]
     },
     "execution_count": 92,
     "metadata": {},
     "output_type": "execute_result"
    }
   ],
   "source": [
    "data_train['ad_type'].value_counts()"
   ]
  },
  {
   "cell_type": "code",
   "execution_count": 93,
   "metadata": {},
   "outputs": [
    {
     "data": {
      "text/plain": [
       "COP    197474\n",
       "USD         8\n",
       "Name: currency, dtype: int64"
      ]
     },
     "execution_count": 93,
     "metadata": {},
     "output_type": "execute_result"
    }
   ],
   "source": [
    "data_train['currency'].value_counts()"
   ]
  },
  {
   "cell_type": "code",
   "execution_count": 94,
   "metadata": {},
   "outputs": [
    {
     "data": {
      "text/plain": [
       "array([[<AxesSubplot:title={'center':'Unnamed: 0'}>,\n",
       "        <AxesSubplot:title={'center':'lat'}>,\n",
       "        <AxesSubplot:title={'center':'lon'}>],\n",
       "       [<AxesSubplot:title={'center':'rooms'}>,\n",
       "        <AxesSubplot:title={'center':'bedrooms'}>,\n",
       "        <AxesSubplot:title={'center':'bathrooms'}>],\n",
       "       [<AxesSubplot:title={'center':'surface_total'}>,\n",
       "        <AxesSubplot:title={'center':'surface_covered'}>,\n",
       "        <AxesSubplot:title={'center':'price'}>]], dtype=object)"
      ]
     },
     "execution_count": 94,
     "metadata": {},
     "output_type": "execute_result"
    },
    {
     "data": {
      "image/png": "[encoded data removed]",
      "text/plain": [
       "<Figure size 1440x1080 with 9 Axes>"
      ]
     },
     "metadata": {
      "needs_background": "light"
     },
     "output_type": "display_data"
    }
   ],
   "source": [
    "# Graficando las variables numéricas para verificar su distribución\n",
    "data_train.hist(bins = 50, figsize =(20,15))"
   ]
  },
  {
   "cell_type": "markdown",
   "metadata": {},
   "source": [
    "Verificamos si tenemos datos duplicados"
   ]
  },
  {
   "cell_type": "code",
   "execution_count": 95,
   "metadata": {},
   "outputs": [
    {
     "name": "stdout",
     "output_type": "stream",
     "text": [
      "La cantidad de registros duplicados es: 0\n"
     ]
    }
   ],
   "source": [
    "data_train[data_train.duplicated()]\n",
    "print('La cantidad de registros duplicados es:', data_train.duplicated().sum())"
   ]
  },
  {
   "cell_type": "code",
   "execution_count": 15,
   "metadata": {},
   "outputs": [
    {
     "data": {
      "image/png": "[encoded data removed]",
      "text/plain": [
       "<Figure size 1800x720 with 3 Axes>"
      ]
     },
     "metadata": {
      "needs_background": "light"
     },
     "output_type": "display_data"
    }
   ],
   "source": [
    "# Graficando valores faltantes\n",
    "import missingno as msno\n",
    "msno.bar(data_train)\n",
    "plt.show()"
   ]
  },
  {
   "cell_type": "markdown",
   "metadata": {},
   "source": [
    "Obteniendo porcentajes de valores faltantes de algunas columnas que no cuentan con el total de datos"
   ]
  },
  {
   "cell_type": "code",
   "execution_count": 96,
   "metadata": {},
   "outputs": [
    {
     "name": "stdout",
     "output_type": "stream",
     "text": [
      "Porcentaje de valores faltantes de la variable l3: 5.584437278852335\n",
      "Porcentaje de valores faltantes de la variable l4: 77.03506471812057\n",
      "Porcentaje de valores faltantes de la variable l5: 86.12546760550546\n",
      "Porcentaje de valores faltantes de la variable l6: 96.52390039939458\n",
      "Porcentaje de valores faltantes de la variable rooms: 86.06067355440928\n",
      "Porcentaje de valores faltantes de la variable  bathrooms: 20.795853180729846\n",
      "Porcentaje de valores faltantes de la variable bedrooms: 79.48610218224339\n",
      "Porcentaje de valores faltantes de la surface_covered: 95.03819305590005\n",
      "Porcentaje de valores faltantes de la surface_total: 96.46973662230637\n",
      "Porcentaje de valores faltantes de la price_period: 81.79135303139981\n",
      "Porcentaje de valores faltantes de la variable lat: 25.05606204030392\n",
      "Porcentaje de valores faltantes de la variable lon: 25.05606204030392\n"
     ]
    }
   ],
   "source": [
    "#Obteniendo porcentajes de valores faltantes de las columnas que no cuentan con el total de datos\n",
    "print('Porcentaje de valores faltantes de la variable l3:', (data_train.l3.isnull().sum()/len(data_train)) * 100)\n",
    "print('Porcentaje de valores faltantes de la variable l4:', (data_train.l4.isnull().sum()/len(data_train)) * 100)\n",
    "print('Porcentaje de valores faltantes de la variable l5:', (data_train.l5.isnull().sum()/len(data_train)) * 100)\n",
    "print('Porcentaje de valores faltantes de la variable l6:', (data_train.l6.isnull().sum()/len(data_train)) * 100)\n",
    "print('Porcentaje de valores faltantes de la variable rooms:', (data_train.rooms.isnull().sum()/len(data_train)) * 100)\n",
    "print('Porcentaje de valores faltantes de la variable  bathrooms:', (data_train.bathrooms.isnull().sum()/len(data_train)) * 100)\n",
    "print('Porcentaje de valores faltantes de la variable bedrooms:', (data_train.bedrooms.isnull().sum()/len(data_train)) * 100)\n",
    "print('Porcentaje de valores faltantes de la surface_covered:', (data_train.surface_covered.isnull().sum()/len(data_train)) * 100)\n",
    "print('Porcentaje de valores faltantes de la surface_total:', (data_train.surface_total.isnull().sum()/len(data_train)) * 100)\n",
    "print('Porcentaje de valores faltantes de la price_period:', (data_train.price_period.isnull().sum()/len(data_train)) * 100)\n",
    "print('Porcentaje de valores faltantes de la variable lat:', (data_train.lat.isnull().sum()/len(data_train)) * 100)\n",
    "print('Porcentaje de valores faltantes de la variable lon:', (data_train.lon.isnull().sum()/len(data_train)) * 100)"
   ]
  },
  {
   "cell_type": "markdown",
   "metadata": {},
   "source": [
    "Mapeando las coordenadas de los datos para detectar posible outliers"
   ]
  },
  {
   "cell_type": "code",
   "execution_count": 97,
   "metadata": {},
   "outputs": [
    {
     "data": {
      "text/plain": [
       "<AxesSubplot:xlabel='lon', ylabel='lat'>"
      ]
     },
     "execution_count": 97,
     "metadata": {},
     "output_type": "execute_result"
    },
    {
     "data": {
      "image/png": "[encoded data removed]",
      "text/plain": [
       "<Figure size 720x504 with 1 Axes>"
      ]
     },
     "metadata": {
      "needs_background": "light"
     },
     "output_type": "display_data"
    }
   ],
   "source": [
    "# Mapeamos las coordenadas, detectamos que se localizan puntos muy alejados, que podrian ser aproximadamente 8 datos\n",
    "data_train.plot(kind= 'scatter', x = 'lon', y ='lat', alpha= 0.4, figsize= (10,7))"
   ]
  },
  {
   "cell_type": "markdown",
   "metadata": {},
   "source": [
    "Verificando si las coordenadas corresponden al país correspondiente"
   ]
  },
  {
   "cell_type": "code",
   "execution_count": 64,
   "metadata": {},
   "outputs": [],
   "source": [
    "# Algunas librerias extra que usaremos\n",
    "from matplotlib.colors import Normalize\n",
    "import matplotlib.colors as colors\n",
    "from numpy import array\n",
    "from numpy import max\n",
    "\n",
    "# Aqui cargamos Basemap\n",
    "from mpl_toolkits.basemap import Basemap\n",
    "from matplotlib.patches import Polygon\n",
    "from matplotlib.collections import PatchCollection"
   ]
  },
  {
   "cell_type": "code",
   "execution_count": 65,
   "metadata": {},
   "outputs": [],
   "source": [
    "# Creamos la lista de latitudes y longitudes.\n",
    "lats, lons = list(data_train['lat']), list(data_train['lon'])"
   ]
  },
  {
   "cell_type": "code",
   "execution_count": 66,
   "metadata": {},
   "outputs": [
    {
     "data": {
      "text/plain": [
       "[<matplotlib.lines.Line2D at 0x20347624ee0>]"
      ]
     },
     "execution_count": 66,
     "metadata": {},
     "output_type": "execute_result"
    },
    {
     "data": {
      "image/png": "[encoded data removed]",
      "text/plain": [
       "<Figure size 1440x720 with 1 Axes>"
      ]
     },
     "metadata": {},
     "output_type": "display_data"
    }
   ],
   "source": [
    "## Graficando los puntos de las propiedades en el mapa\n",
    "figu, ax = plt.subplots(figsize=(20,10))\n",
    "eq_map = Basemap(projection='robin', resolution = 'l', area_thresh = 1000.0,\n",
    "              lat_0=0, lon_0=-130)\n",
    "eq_map.drawcoastlines()\n",
    "eq_map.drawcountries()\n",
    "eq_map.fillcontinents(color = 'gray')\n",
    "eq_map.drawmapboundary()\n",
    "eq_map.drawmeridians(np.arange(0, 360, 30))\n",
    "eq_map.drawparallels(np.arange(-90, 90, 30))\n",
    "x,y = eq_map(lons, lats)\n",
    "eq_map.plot(x, y, '^', markersize= 15)"
   ]
  },
  {
   "cell_type": "markdown",
   "metadata": {},
   "source": [
    "Verificamos la correlacion entre nuestras variables"
   ]
  },
  {
   "cell_type": "code",
   "execution_count": 98,
   "metadata": {},
   "outputs": [
    {
     "data": {
      "text/plain": [
       "<AxesSubplot:>"
      ]
     },
     "execution_count": 98,
     "metadata": {},
     "output_type": "execute_result"
    },
    {
     "data": {
      "image/png": "[encoded data removed]",
      "text/plain": [
       "<Figure size 432x288 with 2 Axes>"
      ]
     },
     "metadata": {
      "needs_background": "light"
     },
     "output_type": "display_data"
    }
   ],
   "source": [
    "# obteniedno la matriz de correlación\n",
    "corrMatrix = data_train.corr().round(2)\n",
    "sn.heatmap(corrMatrix, annot = True, cmap = 'coolwarm')"
   ]
  },
  {
   "cell_type": "markdown",
   "metadata": {},
   "source": [
    "## 2. Preparando datos y aplicando transformaciones"
   ]
  },
  {
   "cell_type": "code",
   "execution_count": 99,
   "metadata": {},
   "outputs": [
    {
     "data": {
      "text/plain": [
       "True"
      ]
     },
     "execution_count": 99,
     "metadata": {},
     "output_type": "execute_result"
    }
   ],
   "source": [
    "# Verificamos los valores nulos\n",
    "data_train.isnull().values.any()"
   ]
  },
  {
   "cell_type": "markdown",
   "metadata": {},
   "source": [
    "Se decidio eliminar las columnas con la mayor cantidad de valores faltantes, debido a que faltaban datos que pudieran imputarse a pesar de tener buena correlación, como es el caso de las variables de superficie. Se baja la dimencionalidad de 28 a 20 columnas."
   ]
  },
  {
   "cell_type": "code",
   "execution_count": 100,
   "metadata": {},
   "outputs": [
    {
     "name": "stdout",
     "output_type": "stream",
     "text": [
      "Porcentaje de valores faltantes de la variable l4: 77.03506471812057\n",
      "Porcentaje de valores faltantes de la variable l5: 86.12546760550546\n",
      "Porcentaje de valores faltantes de la variable l6: 96.52390039939458\n",
      "Porcentaje de valores faltantes de la variable rooms: 86.06067355440928\n",
      "Porcentaje de valores faltantes de la variable bedrooms: 79.48610218224339\n",
      "Porcentaje de valores faltantes de la surface_covered: 95.03819305590005\n",
      "Porcentaje de valores faltantes de la surface_total: 96.46973662230637\n",
      "Porcentaje de valores faltantes de la price_period: 81.79135303139981\n"
     ]
    }
   ],
   "source": [
    "print('Porcentaje de valores faltantes de la variable l4:', (data_train.l4.isnull().sum()/len(data_train)) * 100)\n",
    "print('Porcentaje de valores faltantes de la variable l5:', (data_train.l5.isnull().sum()/len(data_train)) * 100)\n",
    "print('Porcentaje de valores faltantes de la variable l6:', (data_train.l6.isnull().sum()/len(data_train)) * 100)\n",
    "print('Porcentaje de valores faltantes de la variable rooms:', (data_train.rooms.isnull().sum()/len(data_train)) * 100)\n",
    "print('Porcentaje de valores faltantes de la variable bedrooms:', (data_train.bedrooms.isnull().sum()/len(data_train)) * 100)\n",
    "print('Porcentaje de valores faltantes de la surface_covered:', (data_train.surface_covered.isnull().sum()/len(data_train)) * 100)\n",
    "print('Porcentaje de valores faltantes de la surface_total:', (data_train.surface_total.isnull().sum()/len(data_train)) * 100)\n",
    "print('Porcentaje de valores faltantes de la price_period:', (data_train.price_period.isnull().sum()/len(data_train)) * 100)"
   ]
  },
  {
   "cell_type": "code",
   "execution_count": 101,
   "metadata": {},
   "outputs": [],
   "source": [
    "#Eliminamos columnas con alto número de valores faltantes\n",
    "data_train.drop(columns = 'l4', inplace = True)\n",
    "data_train.drop(columns = 'l5', inplace = True)\n",
    "data_train.drop(columns = 'l6', inplace = True)\n",
    "data_train.drop(columns = 'rooms', inplace = True)\n",
    "data_train.drop(columns = 'bedrooms', inplace = True)\n",
    "data_train.drop(columns = 'surface_covered', inplace = True)\n",
    "data_train.drop(columns = 'surface_total', inplace = True)\n",
    "data_train.drop(columns = 'price_period', inplace = True)"
   ]
  },
  {
   "cell_type": "code",
   "execution_count": null,
   "metadata": {},
   "outputs": [],
   "source": [
    "# Verificamos la columna ad_type, primero verificamos si hay hay valores falltantes\n",
    "print('Porcentaje de valores faltantes de la variable ad_type:', (data_train.ad_type.isnull().sum()/len(data_train))*100)"
   ]
  },
  {
   "cell_type": "code",
   "execution_count": 103,
   "metadata": {},
   "outputs": [
    {
     "data": {
      "text/plain": [
       "Propiedad    197549\n",
       "Name: ad_type, dtype: int64"
      ]
     },
     "execution_count": 103,
     "metadata": {},
     "output_type": "execute_result"
    }
   ],
   "source": [
    "data_train.ad_type.value_counts()"
   ]
  },
  {
   "cell_type": "markdown",
   "metadata": {},
   "source": [
    "Debido a que solo se presenta un solo valor en la columna se eliminara, ya que no contiene datos significativos que afecten el modelo"
   ]
  },
  {
   "cell_type": "code",
   "execution_count": 104,
   "metadata": {},
   "outputs": [],
   "source": [
    "data_train.drop(columns = 'ad_type', inplace = True)"
   ]
  },
  {
   "cell_type": "markdown",
   "metadata": {},
   "source": [
    "Se normalizara el formato de las fechas"
   ]
  },
  {
   "cell_type": "code",
   "execution_count": 105,
   "metadata": {},
   "outputs": [],
   "source": [
    "#Cambiamos el tipo de dato para poder , realizar los cambios necesario a la columna\n",
    "data_train['end_date']= data_train['end_date'].astype(str)"
   ]
  },
  {
   "cell_type": "code",
   "execution_count": 106,
   "metadata": {},
   "outputs": [],
   "source": [
    "data_train['end_date'] = data_train['end_date'].replace( '9999-12-31', '2020-12-31')\n"
   ]
  },
  {
   "cell_type": "code",
   "execution_count": 107,
   "metadata": {},
   "outputs": [
    {
     "data": {
      "text/plain": [
       "0         2020-12-31\n",
       "1         2021-05-14\n",
       "2         2020-08-20\n",
       "3         2020-11-30\n",
       "4         2020-10-07\n",
       "             ...    \n",
       "197544    2020-12-31\n",
       "197545    2020-12-09\n",
       "197546    2021-01-02\n",
       "197547    2020-08-14\n",
       "197548    2020-11-27\n",
       "Name: end_date, Length: 197549, dtype: object"
      ]
     },
     "execution_count": 107,
     "metadata": {},
     "output_type": "execute_result"
    }
   ],
   "source": [
    "data_train['end_date'] "
   ]
  },
  {
   "cell_type": "code",
   "execution_count": 108,
   "metadata": {},
   "outputs": [
    {
     "name": "stdout",
     "output_type": "stream",
     "text": [
      "Porcentaje de valores faltantes de la variable star_date: 0.0\n",
      "Porcentaje de valores faltantes de la variable end_date: 0.0\n",
      "Porcentaje de valores faltantes de la variable created_on: 0.0\n"
     ]
    }
   ],
   "source": [
    "# Verificamos valores faltantes\n",
    "\n",
    "print('Porcentaje de valores faltantes de la variable star_date:', (data_train.start_date.isnull().sum()/len(data_train))*100)\n",
    "print('Porcentaje de valores faltantes de la variable end_date:', (data_train.end_date.isnull().sum()/len(data_train))*100)\n",
    "print('Porcentaje de valores faltantes de la variable created_on:', (data_train.created_on.isnull().sum()/len(data_train))*100)"
   ]
  },
  {
   "cell_type": "markdown",
   "metadata": {},
   "source": [
    "Análizamos las columnas que tiene que ver con la localización de la propiedad l1, l2 y l3"
   ]
  },
  {
   "cell_type": "code",
   "execution_count": 109,
   "metadata": {},
   "outputs": [
    {
     "data": {
      "text/plain": [
       "Colombia    197549\n",
       "Name: l1, dtype: int64"
      ]
     },
     "execution_count": 109,
     "metadata": {},
     "output_type": "execute_result"
    }
   ],
   "source": [
    "# Para la descripción de la localización de país\n",
    "data_train.l1.value_counts()"
   ]
  },
  {
   "cell_type": "code",
   "execution_count": 110,
   "metadata": {},
   "outputs": [
    {
     "name": "stdout",
     "output_type": "stream",
     "text": [
      "Porcentaje de valores faltantes de la variable l1: 0.0\n"
     ]
    }
   ],
   "source": [
    "print('Porcentaje de valores faltantes de la variable l1:', (data_train.l1.isnull().sum()/len(data_train))*100)"
   ]
  },
  {
   "cell_type": "code",
   "execution_count": 111,
   "metadata": {},
   "outputs": [],
   "source": [
    "#Debido a que no contiene información relevante no se tomara en cuenta esta columna y se eliminara, su unico valor es Colombia\n",
    "data_train.drop(columns = 'l1', inplace = True)"
   ]
  },
  {
   "cell_type": "code",
   "execution_count": 112,
   "metadata": {},
   "outputs": [
    {
     "data": {
      "text/plain": [
       "Antioquia                                  60636\n",
       "Cundinamarca                               38841\n",
       "Valle del Cauca                            26925\n",
       "Caldas                                     16131\n",
       "Atlántico                                  15828\n",
       "Santander                                   9629\n",
       "Risaralda                                   6982\n",
       "Norte de Santander                          5223\n",
       "Quindío                                     3362\n",
       "Bolívar                                     2766\n",
       "Cauca                                       2424\n",
       "Tolima                                      2357\n",
       "Meta                                        2316\n",
       "Magdalena                                   1268\n",
       "Huila                                        831\n",
       "Nariño                                       651\n",
       "Boyacá                                       434\n",
       "Casanare                                     382\n",
       "Cesar                                        179\n",
       "Córdoba                                      169\n",
       "Sucre                                         65\n",
       "Caquetá                                       36\n",
       "La Guajira                                    20\n",
       "Amazonas                                      20\n",
       "Chocó                                         17\n",
       "San Andrés Providencia y Santa Catalina       15\n",
       "Arauca                                        11\n",
       "Vichada                                       10\n",
       "Guainía                                        8\n",
       "Putumayo                                       7\n",
       "Guaviare                                       6\n",
       "Name: l2, dtype: int64"
      ]
     },
     "execution_count": 112,
     "metadata": {},
     "output_type": "execute_result"
    }
   ],
   "source": [
    "# Para la columna l2 que  tiene que ver con la provincia\n",
    "# print('Porcentaje de valores faltantes de la variable l2:', (data_train.l2.isnull().sum()/len(data_train))*100)  ##cero valores nulos\n",
    "data_train.l2.value_counts() ## se aplicara un a transformación a datos categorticos más adelante"
   ]
  },
  {
   "cell_type": "code",
   "execution_count": 113,
   "metadata": {},
   "outputs": [
    {
     "name": "stdout",
     "output_type": "stream",
     "text": [
      "Porcentaje de valores faltantes de la variable l3: 5.584437278852335\n"
     ]
    }
   ],
   "source": [
    "#  Para la columna l3 que  tiene que ver con la ciudad\n",
    "print('Porcentaje de valores faltantes de la variable l3:', (data_train.l3.isnull().sum()/len(data_train))*100)  ##cero valores nulos\n"
   ]
  },
  {
   "cell_type": "code",
   "execution_count": 114,
   "metadata": {},
   "outputs": [
    {
     "data": {
      "text/plain": [
       "Medellín         43404\n",
       "Bogotá D.C       28731\n",
       "Cali             20846\n",
       "Barranquilla     15133\n",
       "Manizales        14128\n",
       "                 ...  \n",
       "Circasia             1\n",
       "Sibaté               1\n",
       "Maní                 1\n",
       "Vianí                1\n",
       "Quebradanegra        1\n",
       "Name: l3, Length: 293, dtype: int64"
      ]
     },
     "execution_count": 114,
     "metadata": {},
     "output_type": "execute_result"
    }
   ],
   "source": [
    "data_train.l3.value_counts() ## se aplicara un a transformación a datos categorticos más adelante"
   ]
  },
  {
   "cell_type": "code",
   "execution_count": 115,
   "metadata": {},
   "outputs": [],
   "source": [
    "# Se agregara una etiqueta que indique NA en los valores nulos\n",
    "data_train.l3.replace(np.nan, 'NA', inplace = True)"
   ]
  },
  {
   "cell_type": "code",
   "execution_count": 116,
   "metadata": {},
   "outputs": [
    {
     "name": "stdout",
     "output_type": "stream",
     "text": [
      "Porcentaje de valores faltantes de la variable l3: 0.0\n"
     ]
    }
   ],
   "source": [
    "#Verificamos los cambios  realizados\n",
    "print('Porcentaje de valores faltantes de la variable l3:', (data_train.l3.isnull().sum()/len(data_train))*100)"
   ]
  },
  {
   "cell_type": "code",
   "execution_count": 117,
   "metadata": {},
   "outputs": [
    {
     "name": "stdout",
     "output_type": "stream",
     "text": [
      "Porcentaje de valores faltantes de la variable price: 0.03189082202390293\n"
     ]
    }
   ],
   "source": [
    "#Verificamos cantidad de valores faltantes para la columna price\n",
    "print('Porcentaje de valores faltantes de la variable price:', (data_train.price.isnull().sum()/len(data_train))*100)"
   ]
  },
  {
   "cell_type": "code",
   "execution_count": 118,
   "metadata": {},
   "outputs": [],
   "source": [
    "# Se decide llenar con la media de los datos\n",
    "from sklearn.impute import SimpleImputer\n",
    "\n",
    "# Definimos, en strategy, la estrategia que usaremos para la imputación. En este caso, utilizamos una medida de tendencia central.\n",
    "# Más específicamente, la media\n",
    "\n",
    "imputer = SimpleImputer(strategy = 'mean')"
   ]
  },
  {
   "cell_type": "code",
   "execution_count": 119,
   "metadata": {},
   "outputs": [],
   "source": [
    "imputer.fit(data_train[['price']])\n",
    "\n",
    "data_train['price'] = imputer.transform(data_train[['price']])"
   ]
  },
  {
   "cell_type": "code",
   "execution_count": 120,
   "metadata": {},
   "outputs": [
    {
     "name": "stdout",
     "output_type": "stream",
     "text": [
      "Porcentaje de valores faltantes de la variable price: 0.0\n"
     ]
    }
   ],
   "source": [
    "#Verificamos los cambios  realizados\n",
    "print('Porcentaje de valores faltantes de la variable price:', (data_train.price.isnull().sum()/len(data_train))*100)"
   ]
  },
  {
   "cell_type": "code",
   "execution_count": 121,
   "metadata": {},
   "outputs": [
    {
     "name": "stdout",
     "output_type": "stream",
     "text": [
      "Porcentaje de valores faltantes de la variable currency: 0.033915636120658677\n"
     ]
    }
   ],
   "source": [
    "# Para la columna currrency verificamos la cantidad de valores nulos\n",
    "print('Porcentaje de valores faltantes de la variable currency:', (data_train.currency.isnull().sum()/len(data_train))*100)"
   ]
  },
  {
   "cell_type": "code",
   "execution_count": 122,
   "metadata": {},
   "outputs": [
    {
     "data": {
      "text/plain": [
       "COP    197474\n",
       "USD         8\n",
       "Name: currency, dtype: int64"
      ]
     },
     "execution_count": 122,
     "metadata": {},
     "output_type": "execute_result"
    }
   ],
   "source": [
    "#Se verifican los diferentes valores que se puede tener en las filas\n",
    "data_train.currency.value_counts()\n"
   ]
  },
  {
   "cell_type": "code",
   "execution_count": 123,
   "metadata": {},
   "outputs": [
    {
     "data": {
      "text/plain": [
       "(197549,)"
      ]
     },
     "execution_count": 123,
     "metadata": {},
     "output_type": "execute_result"
    }
   ],
   "source": [
    "#Número de filas en la columna\n",
    "data_train.currency.shape"
   ]
  },
  {
   "cell_type": "code",
   "execution_count": 124,
   "metadata": {},
   "outputs": [],
   "source": [
    "# Se decide eliminar la columna, ya que no proporciona información significativa.\n",
    "data_train.drop(columns = 'currency', inplace = True)"
   ]
  },
  {
   "cell_type": "code",
   "execution_count": 125,
   "metadata": {},
   "outputs": [
    {
     "data": {
      "text/html": [
       "<div>\n",
       "<style scoped>\n",
       "    .dataframe tbody tr th:only-of-type {\n",
       "        vertical-align: middle;\n",
       "    }\n",
       "\n",
       "    .dataframe tbody tr th {\n",
       "        vertical-align: top;\n",
       "    }\n",
       "\n",
       "    .dataframe thead th {\n",
       "        text-align: right;\n",
       "    }\n",
       "</style>\n",
       "<table border=\"1\" class=\"dataframe\">\n",
       "  <thead>\n",
       "    <tr style=\"text-align: right;\">\n",
       "      <th></th>\n",
       "      <th>Unnamed: 0</th>\n",
       "      <th>id</th>\n",
       "      <th>start_date</th>\n",
       "      <th>end_date</th>\n",
       "      <th>created_on</th>\n",
       "      <th>lat</th>\n",
       "      <th>lon</th>\n",
       "      <th>l2</th>\n",
       "      <th>l3</th>\n",
       "      <th>bathrooms</th>\n",
       "      <th>price</th>\n",
       "      <th>title</th>\n",
       "      <th>description</th>\n",
       "      <th>property_type</th>\n",
       "      <th>operation_type</th>\n",
       "      <th>geometry</th>\n",
       "    </tr>\n",
       "  </thead>\n",
       "  <tbody>\n",
       "    <tr>\n",
       "      <th>0</th>\n",
       "      <td>861131</td>\n",
       "      <td>CScTjaFiP6yCzS8tFX0ZVA==</td>\n",
       "      <td>2020-12-14</td>\n",
       "      <td>2020-12-31</td>\n",
       "      <td>2020-12-14</td>\n",
       "      <td>6.203000</td>\n",
       "      <td>-75.572000</td>\n",
       "      <td>Antioquia</td>\n",
       "      <td>Medellín</td>\n",
       "      <td>4.0</td>\n",
       "      <td>9.000000e+09</td>\n",
       "      <td>Hermosa Mansión En El Poblado. Área Construida...</td>\n",
       "      <td>&lt;b&gt;Hermosa Mansión En El Poblado. Área Constru...</td>\n",
       "      <td>Casa</td>\n",
       "      <td>Venta</td>\n",
       "      <td>POINT (-75.572 6.203)</td>\n",
       "    </tr>\n",
       "    <tr>\n",
       "      <th>1</th>\n",
       "      <td>200972</td>\n",
       "      <td>DlCxox9+FuugkxS2kBVfJg==</td>\n",
       "      <td>2020-09-16</td>\n",
       "      <td>2021-05-14</td>\n",
       "      <td>2020-09-16</td>\n",
       "      <td>4.722748</td>\n",
       "      <td>-74.073115</td>\n",
       "      <td>Cundinamarca</td>\n",
       "      <td>Bogotá D.C</td>\n",
       "      <td>2.0</td>\n",
       "      <td>6.250000e+08</td>\n",
       "      <td>APARTAMENTO EN VENTA, BOGOTA-CIUDAD JARDIN NORTE</td>\n",
       "      <td>Venta apartamento en piso 16 con vista exterio...</td>\n",
       "      <td>Apartamento</td>\n",
       "      <td>Venta</td>\n",
       "      <td>POINT (-74.0731146 4.7227485)</td>\n",
       "    </tr>\n",
       "  </tbody>\n",
       "</table>\n",
       "</div>"
      ],
      "text/plain": [
       "   Unnamed: 0                        id  start_date    end_date  created_on  \\\n",
       "0      861131  CScTjaFiP6yCzS8tFX0ZVA==  2020-12-14  2020-12-31  2020-12-14   \n",
       "1      200972  DlCxox9+FuugkxS2kBVfJg==  2020-09-16  2021-05-14  2020-09-16   \n",
       "\n",
       "        lat        lon            l2          l3  bathrooms         price  \\\n",
       "0  6.203000 -75.572000     Antioquia    Medellín        4.0  9.000000e+09   \n",
       "1  4.722748 -74.073115  Cundinamarca  Bogotá D.C        2.0  6.250000e+08   \n",
       "\n",
       "                                               title  \\\n",
       "0  Hermosa Mansión En El Poblado. Área Construida...   \n",
       "1   APARTAMENTO EN VENTA, BOGOTA-CIUDAD JARDIN NORTE   \n",
       "\n",
       "                                         description property_type  \\\n",
       "0  <b>Hermosa Mansión En El Poblado. Área Constru...          Casa   \n",
       "1  Venta apartamento en piso 16 con vista exterio...   Apartamento   \n",
       "\n",
       "  operation_type                       geometry  \n",
       "0          Venta          POINT (-75.572 6.203)  \n",
       "1          Venta  POINT (-74.0731146 4.7227485)  "
      ]
     },
     "execution_count": 125,
     "metadata": {},
     "output_type": "execute_result"
    }
   ],
   "source": [
    "data_train.head(2)\n",
    "# property_type\n",
    "# operation_type"
   ]
  },
  {
   "cell_type": "code",
   "execution_count": 126,
   "metadata": {},
   "outputs": [
    {
     "name": "stdout",
     "output_type": "stream",
     "text": [
      "Porcentaje de valores faltantes de la variable property_type: 0.0\n"
     ]
    }
   ],
   "source": [
    "#Analizando la columna property_type\n",
    "print('Porcentaje de valores faltantes de la variable property_type:', (data_train.property_type.isnull().sum()/len(data_train))*100)"
   ]
  },
  {
   "cell_type": "code",
   "execution_count": 127,
   "metadata": {},
   "outputs": [
    {
     "data": {
      "text/plain": [
       "Apartamento        100527\n",
       "Casa                60500\n",
       "Otro                16530\n",
       "Lote                16507\n",
       "Local comercial      1255\n",
       "Finca                1135\n",
       "Oficina              1085\n",
       "Parqueadero            10\n",
       "Name: property_type, dtype: int64"
      ]
     },
     "execution_count": 127,
     "metadata": {},
     "output_type": "execute_result"
    }
   ],
   "source": [
    "#Se verifican los diferentes valores que se puede tener en las filas\n",
    "data_train.property_type.value_counts()\n"
   ]
  },
  {
   "cell_type": "code",
   "execution_count": 128,
   "metadata": {},
   "outputs": [
    {
     "name": "stdout",
     "output_type": "stream",
     "text": [
      "Porcentaje de valores faltantes de la variable operation_type: 0.0\n"
     ]
    }
   ],
   "source": [
    "#Analizando la columna operation_type\n",
    "print('Porcentaje de valores faltantes de la variable operation_type:', (data_train.operation_type.isnull().sum()/len(data_train))*100)"
   ]
  },
  {
   "cell_type": "code",
   "execution_count": 129,
   "metadata": {},
   "outputs": [
    {
     "data": {
      "text/plain": [
       "Venta    197549\n",
       "Name: operation_type, dtype: int64"
      ]
     },
     "execution_count": 129,
     "metadata": {},
     "output_type": "execute_result"
    }
   ],
   "source": [
    "#Se verifican los diferentes valores que se puede tener en las filas\n",
    "data_train.operation_type.value_counts()"
   ]
  },
  {
   "cell_type": "code",
   "execution_count": 130,
   "metadata": {},
   "outputs": [],
   "source": [
    "# Debido a que la la columna operation_type solo tiene un valor se desestima la columna y se elimina\n",
    "data_train.drop(columns = 'operation_type', inplace = True)"
   ]
  },
  {
   "cell_type": "code",
   "execution_count": 131,
   "metadata": {},
   "outputs": [],
   "source": [
    "# Al analizar el contenido y la información de las columnas title, descriptiony geometry\n",
    "# se deciden eliminar estos datos\n",
    "data_train.drop(columns = 'title', inplace = True)\n",
    "data_train.drop(columns = 'description', inplace = True)\n",
    "data_train.drop(columns = 'geometry', inplace = True)\n"
   ]
  },
  {
   "cell_type": "markdown",
   "metadata": {},
   "source": [
    "Tranformando las variables categoricas en numéricas"
   ]
  },
  {
   "cell_type": "code",
   "execution_count": 132,
   "metadata": {},
   "outputs": [],
   "source": [
    "from sklearn import preprocessing\n",
    "\n",
    "label_encoder = preprocessing.LabelEncoder()\n",
    "  \n",
    "data_train['l2'] = label_encoder.fit_transform(data_train['l2'])"
   ]
  },
  {
   "cell_type": "code",
   "execution_count": 133,
   "metadata": {},
   "outputs": [
    {
     "data": {
      "text/plain": [
       "1     60636\n",
       "12    38841\n",
       "29    26925\n",
       "6     16131\n",
       "3     15828\n",
       "26     9629\n",
       "24     6982\n",
       "21     5223\n",
       "23     3362\n",
       "4      2766\n",
       "9      2424\n",
       "28     2357\n",
       "19     2316\n",
       "18     1268\n",
       "16      831\n",
       "20      651\n",
       "5       434\n",
       "8       382\n",
       "10      179\n",
       "13      169\n",
       "27       65\n",
       "7        36\n",
       "17       20\n",
       "0        20\n",
       "11       17\n",
       "25       15\n",
       "2        11\n",
       "30       10\n",
       "14        8\n",
       "22        7\n",
       "15        6\n",
       "Name: l2, dtype: int64"
      ]
     },
     "execution_count": 133,
     "metadata": {},
     "output_type": "execute_result"
    }
   ],
   "source": [
    "data_train['l2'].value_counts()"
   ]
  },
  {
   "cell_type": "code",
   "execution_count": 134,
   "metadata": {},
   "outputs": [
    {
     "data": {
      "text/plain": [
       "148    43404\n",
       "27     28731\n",
       "38     20846\n",
       "24     15133\n",
       "142    14128\n",
       "       ...  \n",
       "57         1\n",
       "237        1\n",
       "144        1\n",
       "274        1\n",
       "193        1\n",
       "Name: l3, Length: 294, dtype: int64"
      ]
     },
     "execution_count": 134,
     "metadata": {},
     "output_type": "execute_result"
    }
   ],
   "source": [
    "label_encoder = preprocessing.LabelEncoder()\n",
    "  \n",
    "data_train['l3'] = label_encoder.fit_transform(data_train['l3'])\n",
    "data_train['l3'].value_counts()"
   ]
  },
  {
   "cell_type": "code",
   "execution_count": 135,
   "metadata": {},
   "outputs": [
    {
     "data": {
      "text/plain": [
       "0    100527\n",
       "1     60500\n",
       "6     16530\n",
       "4     16507\n",
       "3      1255\n",
       "2      1135\n",
       "5      1085\n",
       "7        10\n",
       "Name: property_type, dtype: int64"
      ]
     },
     "execution_count": 135,
     "metadata": {},
     "output_type": "execute_result"
    }
   ],
   "source": [
    "label_encoder = preprocessing.LabelEncoder()\n",
    "  \n",
    "data_train['property_type'] = label_encoder.fit_transform(data_train['property_type'])\n",
    "data_train['property_type'].value_counts()"
   ]
  },
  {
   "cell_type": "markdown",
   "metadata": {},
   "source": [
    "Generando la columna target"
   ]
  },
  {
   "cell_type": "code",
   "execution_count": 136,
   "metadata": {},
   "outputs": [
    {
     "data": {
      "text/plain": [
       "0    151128\n",
       "1     46421\n",
       "Name: target, dtype: int64"
      ]
     },
     "execution_count": 136,
     "metadata": {},
     "output_type": "execute_result"
    }
   ],
   "source": [
    "data_train['target'] =(data_train['price']>= data_train_mean).astype(int)\n",
    "data_train.target.value_counts()"
   ]
  },
  {
   "cell_type": "code",
   "execution_count": 137,
   "metadata": {},
   "outputs": [
    {
     "data": {
      "text/html": [
       "<div>\n",
       "<style scoped>\n",
       "    .dataframe tbody tr th:only-of-type {\n",
       "        vertical-align: middle;\n",
       "    }\n",
       "\n",
       "    .dataframe tbody tr th {\n",
       "        vertical-align: top;\n",
       "    }\n",
       "\n",
       "    .dataframe thead th {\n",
       "        text-align: right;\n",
       "    }\n",
       "</style>\n",
       "<table border=\"1\" class=\"dataframe\">\n",
       "  <thead>\n",
       "    <tr style=\"text-align: right;\">\n",
       "      <th></th>\n",
       "      <th>Unnamed: 0</th>\n",
       "      <th>id</th>\n",
       "      <th>start_date</th>\n",
       "      <th>end_date</th>\n",
       "      <th>created_on</th>\n",
       "      <th>lat</th>\n",
       "      <th>lon</th>\n",
       "      <th>l2</th>\n",
       "      <th>l3</th>\n",
       "      <th>bathrooms</th>\n",
       "      <th>price</th>\n",
       "      <th>property_type</th>\n",
       "      <th>target</th>\n",
       "    </tr>\n",
       "  </thead>\n",
       "  <tbody>\n",
       "    <tr>\n",
       "      <th>0</th>\n",
       "      <td>861131</td>\n",
       "      <td>CScTjaFiP6yCzS8tFX0ZVA==</td>\n",
       "      <td>2020-12-14</td>\n",
       "      <td>2020-12-31</td>\n",
       "      <td>2020-12-14</td>\n",
       "      <td>6.203000</td>\n",
       "      <td>-75.572000</td>\n",
       "      <td>1</td>\n",
       "      <td>148</td>\n",
       "      <td>4.0</td>\n",
       "      <td>9.000000e+09</td>\n",
       "      <td>1</td>\n",
       "      <td>1</td>\n",
       "    </tr>\n",
       "    <tr>\n",
       "      <th>1</th>\n",
       "      <td>200972</td>\n",
       "      <td>DlCxox9+FuugkxS2kBVfJg==</td>\n",
       "      <td>2020-09-16</td>\n",
       "      <td>2021-05-14</td>\n",
       "      <td>2020-09-16</td>\n",
       "      <td>4.722748</td>\n",
       "      <td>-74.073115</td>\n",
       "      <td>12</td>\n",
       "      <td>27</td>\n",
       "      <td>2.0</td>\n",
       "      <td>6.250000e+08</td>\n",
       "      <td>0</td>\n",
       "      <td>0</td>\n",
       "    </tr>\n",
       "    <tr>\n",
       "      <th>2</th>\n",
       "      <td>554622</td>\n",
       "      <td>yitN1AigL45gh/K2YSF8rw==</td>\n",
       "      <td>2020-08-19</td>\n",
       "      <td>2020-08-20</td>\n",
       "      <td>2020-08-19</td>\n",
       "      <td>4.709000</td>\n",
       "      <td>-74.030000</td>\n",
       "      <td>12</td>\n",
       "      <td>27</td>\n",
       "      <td>2.0</td>\n",
       "      <td>4.200000e+08</td>\n",
       "      <td>1</td>\n",
       "      <td>0</td>\n",
       "    </tr>\n",
       "    <tr>\n",
       "      <th>3</th>\n",
       "      <td>540321</td>\n",
       "      <td>hELQ9njwODbLMpATXieRdQ==</td>\n",
       "      <td>2020-11-23</td>\n",
       "      <td>2020-11-30</td>\n",
       "      <td>2020-11-23</td>\n",
       "      <td>NaN</td>\n",
       "      <td>NaN</td>\n",
       "      <td>26</td>\n",
       "      <td>29</td>\n",
       "      <td>1.0</td>\n",
       "      <td>1.310000e+09</td>\n",
       "      <td>6</td>\n",
       "      <td>1</td>\n",
       "    </tr>\n",
       "    <tr>\n",
       "      <th>4</th>\n",
       "      <td>448920</td>\n",
       "      <td>aBCtKT7LDzt2CxJQ+gVFEA==</td>\n",
       "      <td>2020-10-06</td>\n",
       "      <td>2020-10-07</td>\n",
       "      <td>2020-10-06</td>\n",
       "      <td>NaN</td>\n",
       "      <td>NaN</td>\n",
       "      <td>1</td>\n",
       "      <td>148</td>\n",
       "      <td>2.0</td>\n",
       "      <td>2.100000e+08</td>\n",
       "      <td>0</td>\n",
       "      <td>0</td>\n",
       "    </tr>\n",
       "    <tr>\n",
       "      <th>...</th>\n",
       "      <td>...</td>\n",
       "      <td>...</td>\n",
       "      <td>...</td>\n",
       "      <td>...</td>\n",
       "      <td>...</td>\n",
       "      <td>...</td>\n",
       "      <td>...</td>\n",
       "      <td>...</td>\n",
       "      <td>...</td>\n",
       "      <td>...</td>\n",
       "      <td>...</td>\n",
       "      <td>...</td>\n",
       "      <td>...</td>\n",
       "    </tr>\n",
       "    <tr>\n",
       "      <th>197544</th>\n",
       "      <td>444298</td>\n",
       "      <td>u2M1W+AwbEZlRdmphDOuZg==</td>\n",
       "      <td>2020-10-27</td>\n",
       "      <td>2020-12-31</td>\n",
       "      <td>2020-10-27</td>\n",
       "      <td>4.649682</td>\n",
       "      <td>-74.161950</td>\n",
       "      <td>12</td>\n",
       "      <td>27</td>\n",
       "      <td>NaN</td>\n",
       "      <td>1.290000e+08</td>\n",
       "      <td>0</td>\n",
       "      <td>0</td>\n",
       "    </tr>\n",
       "    <tr>\n",
       "      <th>197545</th>\n",
       "      <td>976934</td>\n",
       "      <td>m0P17AlA6Sp+uvJTI3x3AA==</td>\n",
       "      <td>2020-11-27</td>\n",
       "      <td>2020-12-09</td>\n",
       "      <td>2020-11-27</td>\n",
       "      <td>4.668000</td>\n",
       "      <td>-74.055000</td>\n",
       "      <td>12</td>\n",
       "      <td>27</td>\n",
       "      <td>1.0</td>\n",
       "      <td>1.350000e+08</td>\n",
       "      <td>5</td>\n",
       "      <td>0</td>\n",
       "    </tr>\n",
       "    <tr>\n",
       "      <th>197546</th>\n",
       "      <td>508286</td>\n",
       "      <td>nSRnmPZIwE92m/FQv8ktVQ==</td>\n",
       "      <td>2020-10-28</td>\n",
       "      <td>2021-01-02</td>\n",
       "      <td>2020-10-28</td>\n",
       "      <td>3.413000</td>\n",
       "      <td>-76.541000</td>\n",
       "      <td>29</td>\n",
       "      <td>38</td>\n",
       "      <td>1.0</td>\n",
       "      <td>5.200000e+08</td>\n",
       "      <td>6</td>\n",
       "      <td>0</td>\n",
       "    </tr>\n",
       "    <tr>\n",
       "      <th>197547</th>\n",
       "      <td>546633</td>\n",
       "      <td>cbYIZxxFHsXvvkixg5+DBQ==</td>\n",
       "      <td>2020-08-14</td>\n",
       "      <td>2020-08-14</td>\n",
       "      <td>2020-08-14</td>\n",
       "      <td>4.674874</td>\n",
       "      <td>-74.147077</td>\n",
       "      <td>12</td>\n",
       "      <td>27</td>\n",
       "      <td>2.0</td>\n",
       "      <td>2.900000e+08</td>\n",
       "      <td>1</td>\n",
       "      <td>0</td>\n",
       "    </tr>\n",
       "    <tr>\n",
       "      <th>197548</th>\n",
       "      <td>448114</td>\n",
       "      <td>ivrCGYtvreFxwv/BHSLWTg==</td>\n",
       "      <td>2020-10-06</td>\n",
       "      <td>2020-11-27</td>\n",
       "      <td>2020-10-06</td>\n",
       "      <td>10.935994</td>\n",
       "      <td>-74.802899</td>\n",
       "      <td>3</td>\n",
       "      <td>24</td>\n",
       "      <td>1.0</td>\n",
       "      <td>3.000000e+07</td>\n",
       "      <td>0</td>\n",
       "      <td>0</td>\n",
       "    </tr>\n",
       "  </tbody>\n",
       "</table>\n",
       "<p>197549 rows × 13 columns</p>\n",
       "</div>"
      ],
      "text/plain": [
       "        Unnamed: 0                        id  start_date    end_date  \\\n",
       "0           861131  CScTjaFiP6yCzS8tFX0ZVA==  2020-12-14  2020-12-31   \n",
       "1           200972  DlCxox9+FuugkxS2kBVfJg==  2020-09-16  2021-05-14   \n",
       "2           554622  yitN1AigL45gh/K2YSF8rw==  2020-08-19  2020-08-20   \n",
       "3           540321  hELQ9njwODbLMpATXieRdQ==  2020-11-23  2020-11-30   \n",
       "4           448920  aBCtKT7LDzt2CxJQ+gVFEA==  2020-10-06  2020-10-07   \n",
       "...            ...                       ...         ...         ...   \n",
       "197544      444298  u2M1W+AwbEZlRdmphDOuZg==  2020-10-27  2020-12-31   \n",
       "197545      976934  m0P17AlA6Sp+uvJTI3x3AA==  2020-11-27  2020-12-09   \n",
       "197546      508286  nSRnmPZIwE92m/FQv8ktVQ==  2020-10-28  2021-01-02   \n",
       "197547      546633  cbYIZxxFHsXvvkixg5+DBQ==  2020-08-14  2020-08-14   \n",
       "197548      448114  ivrCGYtvreFxwv/BHSLWTg==  2020-10-06  2020-11-27   \n",
       "\n",
       "        created_on        lat        lon  l2   l3  bathrooms         price  \\\n",
       "0       2020-12-14   6.203000 -75.572000   1  148        4.0  9.000000e+09   \n",
       "1       2020-09-16   4.722748 -74.073115  12   27        2.0  6.250000e+08   \n",
       "2       2020-08-19   4.709000 -74.030000  12   27        2.0  4.200000e+08   \n",
       "3       2020-11-23        NaN        NaN  26   29        1.0  1.310000e+09   \n",
       "4       2020-10-06        NaN        NaN   1  148        2.0  2.100000e+08   \n",
       "...            ...        ...        ...  ..  ...        ...           ...   \n",
       "197544  2020-10-27   4.649682 -74.161950  12   27        NaN  1.290000e+08   \n",
       "197545  2020-11-27   4.668000 -74.055000  12   27        1.0  1.350000e+08   \n",
       "197546  2020-10-28   3.413000 -76.541000  29   38        1.0  5.200000e+08   \n",
       "197547  2020-08-14   4.674874 -74.147077  12   27        2.0  2.900000e+08   \n",
       "197548  2020-10-06  10.935994 -74.802899   3   24        1.0  3.000000e+07   \n",
       "\n",
       "        property_type  target  \n",
       "0                   1       1  \n",
       "1                   0       0  \n",
       "2                   1       0  \n",
       "3                   6       1  \n",
       "4                   0       0  \n",
       "...               ...     ...  \n",
       "197544              0       0  \n",
       "197545              5       0  \n",
       "197546              6       0  \n",
       "197547              1       0  \n",
       "197548              0       0  \n",
       "\n",
       "[197549 rows x 13 columns]"
      ]
     },
     "execution_count": 137,
     "metadata": {},
     "output_type": "execute_result"
    }
   ],
   "source": [
    "data_train"
   ]
  },
  {
   "cell_type": "markdown",
   "metadata": {},
   "source": [
    "## 3. Realizando Pipeline"
   ]
  },
  {
   "cell_type": "code",
   "execution_count": 138,
   "metadata": {},
   "outputs": [],
   "source": [
    "# Llamando a las librerias\n",
    "from sklearn.pipeline import Pipeline\n",
    "from sklearn.compose import ColumnTransformer\n",
    "from sklearn.preprocessing import StandardScaler, LabelEncoder, OneHotEncoder"
   ]
  },
  {
   "cell_type": "code",
   "execution_count": 139,
   "metadata": {},
   "outputs": [],
   "source": [
    "# Se crea la lista de variables numéricas y categóricas\n",
    "\n",
    "numeric_list = ['bathroom', 'target']\n",
    "categorical_list = ['l1', 'l2', 'property_type' ]\n"
   ]
  },
  {
   "cell_type": "code",
   "execution_count": 140,
   "metadata": {},
   "outputs": [],
   "source": [
    "# Creando el pipeline de preprocesamiento para los datos numpericos y categoricos\n",
    "numeric_transformer = Pipeline ( steps = [('scaler', StandardScaler())])\n",
    "categorical_transformer = Pipeline ( steps = [('label', LabelEncoder())])"
   ]
  },
  {
   "cell_type": "code",
   "execution_count": 141,
   "metadata": {},
   "outputs": [],
   "source": [
    "# Definiendo la tranformación de las columnas\n",
    "transformer = ColumnTransformer([ ('num',numeric_transformer , numeric_list), ('cate',categorical_transformer,categorical_list )])"
   ]
  },
  {
   "cell_type": "code",
   "execution_count": 142,
   "metadata": {},
   "outputs": [
    {
     "data": {
      "text/html": [
       "<div>\n",
       "<style scoped>\n",
       "    .dataframe tbody tr th:only-of-type {\n",
       "        vertical-align: middle;\n",
       "    }\n",
       "\n",
       "    .dataframe tbody tr th {\n",
       "        vertical-align: top;\n",
       "    }\n",
       "\n",
       "    .dataframe thead th {\n",
       "        text-align: right;\n",
       "    }\n",
       "</style>\n",
       "<table border=\"1\" class=\"dataframe\">\n",
       "  <thead>\n",
       "    <tr style=\"text-align: right;\">\n",
       "      <th></th>\n",
       "      <th>Unnamed: 0</th>\n",
       "      <th>id</th>\n",
       "      <th>start_date</th>\n",
       "      <th>end_date</th>\n",
       "      <th>created_on</th>\n",
       "      <th>lat</th>\n",
       "      <th>lon</th>\n",
       "      <th>l2</th>\n",
       "      <th>l3</th>\n",
       "      <th>bathrooms</th>\n",
       "      <th>price</th>\n",
       "      <th>property_type</th>\n",
       "      <th>target</th>\n",
       "    </tr>\n",
       "  </thead>\n",
       "  <tbody>\n",
       "    <tr>\n",
       "      <th>0</th>\n",
       "      <td>861131</td>\n",
       "      <td>CScTjaFiP6yCzS8tFX0ZVA==</td>\n",
       "      <td>2020-12-14</td>\n",
       "      <td>2020-12-31</td>\n",
       "      <td>2020-12-14</td>\n",
       "      <td>6.203000</td>\n",
       "      <td>-75.572000</td>\n",
       "      <td>1</td>\n",
       "      <td>148</td>\n",
       "      <td>4.0</td>\n",
       "      <td>9.000000e+09</td>\n",
       "      <td>1</td>\n",
       "      <td>1</td>\n",
       "    </tr>\n",
       "    <tr>\n",
       "      <th>1</th>\n",
       "      <td>200972</td>\n",
       "      <td>DlCxox9+FuugkxS2kBVfJg==</td>\n",
       "      <td>2020-09-16</td>\n",
       "      <td>2021-05-14</td>\n",
       "      <td>2020-09-16</td>\n",
       "      <td>4.722748</td>\n",
       "      <td>-74.073115</td>\n",
       "      <td>12</td>\n",
       "      <td>27</td>\n",
       "      <td>2.0</td>\n",
       "      <td>6.250000e+08</td>\n",
       "      <td>0</td>\n",
       "      <td>0</td>\n",
       "    </tr>\n",
       "    <tr>\n",
       "      <th>2</th>\n",
       "      <td>554622</td>\n",
       "      <td>yitN1AigL45gh/K2YSF8rw==</td>\n",
       "      <td>2020-08-19</td>\n",
       "      <td>2020-08-20</td>\n",
       "      <td>2020-08-19</td>\n",
       "      <td>4.709000</td>\n",
       "      <td>-74.030000</td>\n",
       "      <td>12</td>\n",
       "      <td>27</td>\n",
       "      <td>2.0</td>\n",
       "      <td>4.200000e+08</td>\n",
       "      <td>1</td>\n",
       "      <td>0</td>\n",
       "    </tr>\n",
       "    <tr>\n",
       "      <th>3</th>\n",
       "      <td>540321</td>\n",
       "      <td>hELQ9njwODbLMpATXieRdQ==</td>\n",
       "      <td>2020-11-23</td>\n",
       "      <td>2020-11-30</td>\n",
       "      <td>2020-11-23</td>\n",
       "      <td>NaN</td>\n",
       "      <td>NaN</td>\n",
       "      <td>26</td>\n",
       "      <td>29</td>\n",
       "      <td>1.0</td>\n",
       "      <td>1.310000e+09</td>\n",
       "      <td>6</td>\n",
       "      <td>1</td>\n",
       "    </tr>\n",
       "    <tr>\n",
       "      <th>4</th>\n",
       "      <td>448920</td>\n",
       "      <td>aBCtKT7LDzt2CxJQ+gVFEA==</td>\n",
       "      <td>2020-10-06</td>\n",
       "      <td>2020-10-07</td>\n",
       "      <td>2020-10-06</td>\n",
       "      <td>NaN</td>\n",
       "      <td>NaN</td>\n",
       "      <td>1</td>\n",
       "      <td>148</td>\n",
       "      <td>2.0</td>\n",
       "      <td>2.100000e+08</td>\n",
       "      <td>0</td>\n",
       "      <td>0</td>\n",
       "    </tr>\n",
       "    <tr>\n",
       "      <th>...</th>\n",
       "      <td>...</td>\n",
       "      <td>...</td>\n",
       "      <td>...</td>\n",
       "      <td>...</td>\n",
       "      <td>...</td>\n",
       "      <td>...</td>\n",
       "      <td>...</td>\n",
       "      <td>...</td>\n",
       "      <td>...</td>\n",
       "      <td>...</td>\n",
       "      <td>...</td>\n",
       "      <td>...</td>\n",
       "      <td>...</td>\n",
       "    </tr>\n",
       "    <tr>\n",
       "      <th>197544</th>\n",
       "      <td>444298</td>\n",
       "      <td>u2M1W+AwbEZlRdmphDOuZg==</td>\n",
       "      <td>2020-10-27</td>\n",
       "      <td>2020-12-31</td>\n",
       "      <td>2020-10-27</td>\n",
       "      <td>4.649682</td>\n",
       "      <td>-74.161950</td>\n",
       "      <td>12</td>\n",
       "      <td>27</td>\n",
       "      <td>NaN</td>\n",
       "      <td>1.290000e+08</td>\n",
       "      <td>0</td>\n",
       "      <td>0</td>\n",
       "    </tr>\n",
       "    <tr>\n",
       "      <th>197545</th>\n",
       "      <td>976934</td>\n",
       "      <td>m0P17AlA6Sp+uvJTI3x3AA==</td>\n",
       "      <td>2020-11-27</td>\n",
       "      <td>2020-12-09</td>\n",
       "      <td>2020-11-27</td>\n",
       "      <td>4.668000</td>\n",
       "      <td>-74.055000</td>\n",
       "      <td>12</td>\n",
       "      <td>27</td>\n",
       "      <td>1.0</td>\n",
       "      <td>1.350000e+08</td>\n",
       "      <td>5</td>\n",
       "      <td>0</td>\n",
       "    </tr>\n",
       "    <tr>\n",
       "      <th>197546</th>\n",
       "      <td>508286</td>\n",
       "      <td>nSRnmPZIwE92m/FQv8ktVQ==</td>\n",
       "      <td>2020-10-28</td>\n",
       "      <td>2021-01-02</td>\n",
       "      <td>2020-10-28</td>\n",
       "      <td>3.413000</td>\n",
       "      <td>-76.541000</td>\n",
       "      <td>29</td>\n",
       "      <td>38</td>\n",
       "      <td>1.0</td>\n",
       "      <td>5.200000e+08</td>\n",
       "      <td>6</td>\n",
       "      <td>0</td>\n",
       "    </tr>\n",
       "    <tr>\n",
       "      <th>197547</th>\n",
       "      <td>546633</td>\n",
       "      <td>cbYIZxxFHsXvvkixg5+DBQ==</td>\n",
       "      <td>2020-08-14</td>\n",
       "      <td>2020-08-14</td>\n",
       "      <td>2020-08-14</td>\n",
       "      <td>4.674874</td>\n",
       "      <td>-74.147077</td>\n",
       "      <td>12</td>\n",
       "      <td>27</td>\n",
       "      <td>2.0</td>\n",
       "      <td>2.900000e+08</td>\n",
       "      <td>1</td>\n",
       "      <td>0</td>\n",
       "    </tr>\n",
       "    <tr>\n",
       "      <th>197548</th>\n",
       "      <td>448114</td>\n",
       "      <td>ivrCGYtvreFxwv/BHSLWTg==</td>\n",
       "      <td>2020-10-06</td>\n",
       "      <td>2020-11-27</td>\n",
       "      <td>2020-10-06</td>\n",
       "      <td>10.935994</td>\n",
       "      <td>-74.802899</td>\n",
       "      <td>3</td>\n",
       "      <td>24</td>\n",
       "      <td>1.0</td>\n",
       "      <td>3.000000e+07</td>\n",
       "      <td>0</td>\n",
       "      <td>0</td>\n",
       "    </tr>\n",
       "  </tbody>\n",
       "</table>\n",
       "<p>197549 rows × 13 columns</p>\n",
       "</div>"
      ],
      "text/plain": [
       "        Unnamed: 0                        id  start_date    end_date  \\\n",
       "0           861131  CScTjaFiP6yCzS8tFX0ZVA==  2020-12-14  2020-12-31   \n",
       "1           200972  DlCxox9+FuugkxS2kBVfJg==  2020-09-16  2021-05-14   \n",
       "2           554622  yitN1AigL45gh/K2YSF8rw==  2020-08-19  2020-08-20   \n",
       "3           540321  hELQ9njwODbLMpATXieRdQ==  2020-11-23  2020-11-30   \n",
       "4           448920  aBCtKT7LDzt2CxJQ+gVFEA==  2020-10-06  2020-10-07   \n",
       "...            ...                       ...         ...         ...   \n",
       "197544      444298  u2M1W+AwbEZlRdmphDOuZg==  2020-10-27  2020-12-31   \n",
       "197545      976934  m0P17AlA6Sp+uvJTI3x3AA==  2020-11-27  2020-12-09   \n",
       "197546      508286  nSRnmPZIwE92m/FQv8ktVQ==  2020-10-28  2021-01-02   \n",
       "197547      546633  cbYIZxxFHsXvvkixg5+DBQ==  2020-08-14  2020-08-14   \n",
       "197548      448114  ivrCGYtvreFxwv/BHSLWTg==  2020-10-06  2020-11-27   \n",
       "\n",
       "        created_on        lat        lon  l2   l3  bathrooms         price  \\\n",
       "0       2020-12-14   6.203000 -75.572000   1  148        4.0  9.000000e+09   \n",
       "1       2020-09-16   4.722748 -74.073115  12   27        2.0  6.250000e+08   \n",
       "2       2020-08-19   4.709000 -74.030000  12   27        2.0  4.200000e+08   \n",
       "3       2020-11-23        NaN        NaN  26   29        1.0  1.310000e+09   \n",
       "4       2020-10-06        NaN        NaN   1  148        2.0  2.100000e+08   \n",
       "...            ...        ...        ...  ..  ...        ...           ...   \n",
       "197544  2020-10-27   4.649682 -74.161950  12   27        NaN  1.290000e+08   \n",
       "197545  2020-11-27   4.668000 -74.055000  12   27        1.0  1.350000e+08   \n",
       "197546  2020-10-28   3.413000 -76.541000  29   38        1.0  5.200000e+08   \n",
       "197547  2020-08-14   4.674874 -74.147077  12   27        2.0  2.900000e+08   \n",
       "197548  2020-10-06  10.935994 -74.802899   3   24        1.0  3.000000e+07   \n",
       "\n",
       "        property_type  target  \n",
       "0                   1       1  \n",
       "1                   0       0  \n",
       "2                   1       0  \n",
       "3                   6       1  \n",
       "4                   0       0  \n",
       "...               ...     ...  \n",
       "197544              0       0  \n",
       "197545              5       0  \n",
       "197546              6       0  \n",
       "197547              1       0  \n",
       "197548              0       0  \n",
       "\n",
       "[197549 rows x 13 columns]"
      ]
     },
     "execution_count": 142,
     "metadata": {},
     "output_type": "execute_result"
    }
   ],
   "source": [
    "data_train"
   ]
  },
  {
   "cell_type": "markdown",
   "metadata": {},
   "source": [
    "## 4. Realizando el modelo de ML"
   ]
  },
  {
   "cell_type": "code",
   "execution_count": 143,
   "metadata": {},
   "outputs": [
    {
     "data": {
      "text/plain": [
       "Unnamed: 0         int64\n",
       "id                object\n",
       "start_date        object\n",
       "end_date          object\n",
       "created_on        object\n",
       "lat              float64\n",
       "lon              float64\n",
       "l2                 int32\n",
       "l3                 int32\n",
       "bathrooms        float64\n",
       "price            float64\n",
       "property_type      int32\n",
       "target             int32\n",
       "dtype: object"
      ]
     },
     "execution_count": 143,
     "metadata": {},
     "output_type": "execute_result"
    }
   ],
   "source": [
    "# Identificando cantidad de columnas y tipo de variables\n",
    "data_train.dtypes"
   ]
  },
  {
   "cell_type": "code",
   "execution_count": 199,
   "metadata": {},
   "outputs": [],
   "source": [
    "# Dividiendo los datos de acuerdo al modelo\n",
    "#Se deciden solo estas tres columnas que son las qu ecuentan con la informació \n",
    "# completa y relevante que influyen en el precio de la propiedad\n",
    "X = data_train[['l2', 'l3','property_type']]\n",
    "y = data_train['price']"
   ]
  },
  {
   "cell_type": "code",
   "execution_count": 200,
   "metadata": {},
   "outputs": [],
   "source": [
    "# Dividiendo los datos de entrenamiento y de prueba\n",
    "from sklearn.model_selection import train_test_split\n",
    "X_train, X_test, y_train, y_test = train_test_split(X,y, test_size = 0.3 )"
   ]
  },
  {
   "cell_type": "code",
   "execution_count": 201,
   "metadata": {},
   "outputs": [
    {
     "data": {
      "text/plain": [
       "((138284, 3), (59265, 3), (138284,), (59265,))"
      ]
     },
     "execution_count": 201,
     "metadata": {},
     "output_type": "execute_result"
    }
   ],
   "source": [
    "# Revisando el tamaño de las muestras\n",
    "X_train.shape, X_test.shape, y_train.shape, y_test.shape"
   ]
  },
  {
   "cell_type": "code",
   "execution_count": 202,
   "metadata": {},
   "outputs": [],
   "source": [
    "# Aplicando el modelo de regresión lineal\n",
    "from sklearn.linear_model import LinearRegression\n",
    "linear_regression = LinearRegression ()"
   ]
  },
  {
   "cell_type": "code",
   "execution_count": 173,
   "metadata": {},
   "outputs": [],
   "source": [
    "# Pipeline de la predicción completa\n",
    "#model_linear_regression = Pipeline([('transformer', transformer), ('linear_regression',linear_regression)])\n"
   ]
  },
  {
   "cell_type": "code",
   "execution_count": 203,
   "metadata": {},
   "outputs": [
    {
     "data": {
      "text/html": [
       "<style>#sk-container-id-4 {color: black;background-color: white;}#sk-container-id-4 pre{padding: 0;}#sk-container-id-4 div.sk-toggleable {background-color: white;}#sk-container-id-4 label.sk-toggleable__label {cursor: pointer;display: block;width: 100%;margin-bottom: 0;padding: 0.3em;box-sizing: border-box;text-align: center;}#sk-container-id-4 label.sk-toggleable__label-arrow:before {content: \"▸\";float: left;margin-right: 0.25em;color: #696969;}#sk-container-id-4 label.sk-toggleable__label-arrow:hover:before {color: black;}#sk-container-id-4 div.sk-estimator:hover label.sk-toggleable__label-arrow:before {color: black;}#sk-container-id-4 div.sk-toggleable__content {max-height: 0;max-width: 0;overflow: hidden;text-align: left;background-color: #f0f8ff;}#sk-container-id-4 div.sk-toggleable__content pre {margin: 0.2em;color: black;border-radius: 0.25em;background-color: #f0f8ff;}#sk-container-id-4 input.sk-toggleable__control:checked~div.sk-toggleable__content {max-height: 200px;max-width: 100%;overflow: auto;}#sk-container-id-4 input.sk-toggleable__control:checked~label.sk-toggleable__label-arrow:before {content: \"▾\";}#sk-container-id-4 div.sk-estimator input.sk-toggleable__control:checked~label.sk-toggleable__label {background-color: #d4ebff;}#sk-container-id-4 div.sk-label input.sk-toggleable__control:checked~label.sk-toggleable__label {background-color: #d4ebff;}#sk-container-id-4 input.sk-hidden--visually {border: 0;clip: rect(1px 1px 1px 1px);clip: rect(1px, 1px, 1px, 1px);height: 1px;margin: -1px;overflow: hidden;padding: 0;position: absolute;width: 1px;}#sk-container-id-4 div.sk-estimator {font-family: monospace;background-color: #f0f8ff;border: 1px dotted black;border-radius: 0.25em;box-sizing: border-box;margin-bottom: 0.5em;}#sk-container-id-4 div.sk-estimator:hover {background-color: #d4ebff;}#sk-container-id-4 div.sk-parallel-item::after {content: \"\";width: 100%;border-bottom: 1px solid gray;flex-grow: 1;}#sk-container-id-4 div.sk-label:hover label.sk-toggleable__label {background-color: #d4ebff;}#sk-container-id-4 div.sk-serial::before {content: \"\";position: absolute;border-left: 1px solid gray;box-sizing: border-box;top: 0;bottom: 0;left: 50%;z-index: 0;}#sk-container-id-4 div.sk-serial {display: flex;flex-direction: column;align-items: center;background-color: white;padding-right: 0.2em;padding-left: 0.2em;position: relative;}#sk-container-id-4 div.sk-item {position: relative;z-index: 1;}#sk-container-id-4 div.sk-parallel {display: flex;align-items: stretch;justify-content: center;background-color: white;position: relative;}#sk-container-id-4 div.sk-item::before, #sk-container-id-4 div.sk-parallel-item::before {content: \"\";position: absolute;border-left: 1px solid gray;box-sizing: border-box;top: 0;bottom: 0;left: 50%;z-index: -1;}#sk-container-id-4 div.sk-parallel-item {display: flex;flex-direction: column;z-index: 1;position: relative;background-color: white;}#sk-container-id-4 div.sk-parallel-item:first-child::after {align-self: flex-end;width: 50%;}#sk-container-id-4 div.sk-parallel-item:last-child::after {align-self: flex-start;width: 50%;}#sk-container-id-4 div.sk-parallel-item:only-child::after {width: 0;}#sk-container-id-4 div.sk-dashed-wrapped {border: 1px dashed gray;margin: 0 0.4em 0.5em 0.4em;box-sizing: border-box;padding-bottom: 0.4em;background-color: white;}#sk-container-id-4 div.sk-label label {font-family: monospace;font-weight: bold;display: inline-block;line-height: 1.2em;}#sk-container-id-4 div.sk-label-container {text-align: center;}#sk-container-id-4 div.sk-container {/* jupyter's `normalize.less` sets `[hidden] { display: none; }` but bootstrap.min.css set `[hidden] { display: none !important; }` so we also need the `!important` here to be able to override the default hidden behavior on the sphinx rendered scikit-learn.org. See: https://github.com/scikit-learn/scikit-learn/issues/21755 */display: inline-block !important;position: relative;}#sk-container-id-4 div.sk-text-repr-fallback {display: none;}</style><div id=\"sk-container-id-4\" class=\"sk-top-container\"><div class=\"sk-text-repr-fallback\"><pre>LinearRegression()</pre><b>In a Jupyter environment, please rerun this cell to show the HTML representation or trust the notebook. <br />On GitHub, the HTML representation is unable to render, please try loading this page with nbviewer.org.</b></div><div class=\"sk-container\" hidden><div class=\"sk-item\"><div class=\"sk-estimator sk-toggleable\"><input class=\"sk-toggleable__control sk-hidden--visually\" id=\"sk-estimator-id-4\" type=\"checkbox\" checked><label for=\"sk-estimator-id-4\" class=\"sk-toggleable__label sk-toggleable__label-arrow\">LinearRegression</label><div class=\"sk-toggleable__content\"><pre>LinearRegression()</pre></div></div></div></div></div>"
      ],
      "text/plain": [
       "LinearRegression()"
      ]
     },
     "execution_count": 203,
     "metadata": {},
     "output_type": "execute_result"
    }
   ],
   "source": [
    "linear_regression.fit(X_train,y_train)"
   ]
  },
  {
   "cell_type": "code",
   "execution_count": 204,
   "metadata": {},
   "outputs": [],
   "source": [
    "#Probamos los datos, en la parte final estan aplicadas las tranformaciones al dataset de test\n",
    "#Para poder ingresarlas al modelo\n",
    "y_predic= linear_regression.predict(X2)"
   ]
  },
  {
   "cell_type": "code",
   "execution_count": 211,
   "metadata": {},
   "outputs": [],
   "source": [
    "# Convirtiendo a DataFrame los resultados obtenidos\n",
    "y_pred_lineal = pd.DataFrame(y_predic, columns = ['price'])"
   ]
  },
  {
   "cell_type": "code",
   "execution_count": 212,
   "metadata": {},
   "outputs": [
    {
     "data": {
      "text/html": [
       "<div>\n",
       "<style scoped>\n",
       "    .dataframe tbody tr th:only-of-type {\n",
       "        vertical-align: middle;\n",
       "    }\n",
       "\n",
       "    .dataframe tbody tr th {\n",
       "        vertical-align: top;\n",
       "    }\n",
       "\n",
       "    .dataframe thead th {\n",
       "        text-align: right;\n",
       "    }\n",
       "</style>\n",
       "<table border=\"1\" class=\"dataframe\">\n",
       "  <thead>\n",
       "    <tr style=\"text-align: right;\">\n",
       "      <th></th>\n",
       "      <th>price</th>\n",
       "    </tr>\n",
       "  </thead>\n",
       "  <tbody>\n",
       "    <tr>\n",
       "      <th>0</th>\n",
       "      <td>6.834061e+08</td>\n",
       "    </tr>\n",
       "    <tr>\n",
       "      <th>1</th>\n",
       "      <td>4.968095e+08</td>\n",
       "    </tr>\n",
       "    <tr>\n",
       "      <th>2</th>\n",
       "      <td>6.083526e+08</td>\n",
       "    </tr>\n",
       "    <tr>\n",
       "      <th>3</th>\n",
       "      <td>1.167963e+09</td>\n",
       "    </tr>\n",
       "    <tr>\n",
       "      <th>4</th>\n",
       "      <td>6.083526e+08</td>\n",
       "    </tr>\n",
       "    <tr>\n",
       "      <th>...</th>\n",
       "      <td>...</td>\n",
       "    </tr>\n",
       "    <tr>\n",
       "      <th>65845</th>\n",
       "      <td>4.218158e+08</td>\n",
       "    </tr>\n",
       "    <tr>\n",
       "      <th>65846</th>\n",
       "      <td>4.069045e+08</td>\n",
       "    </tr>\n",
       "    <tr>\n",
       "      <th>65847</th>\n",
       "      <td>1.500760e+09</td>\n",
       "    </tr>\n",
       "    <tr>\n",
       "      <th>65848</th>\n",
       "      <td>4.343840e+08</td>\n",
       "    </tr>\n",
       "    <tr>\n",
       "      <th>65849</th>\n",
       "      <td>4.218158e+08</td>\n",
       "    </tr>\n",
       "  </tbody>\n",
       "</table>\n",
       "<p>65850 rows × 1 columns</p>\n",
       "</div>"
      ],
      "text/plain": [
       "              price\n",
       "0      6.834061e+08\n",
       "1      4.968095e+08\n",
       "2      6.083526e+08\n",
       "3      1.167963e+09\n",
       "4      6.083526e+08\n",
       "...             ...\n",
       "65845  4.218158e+08\n",
       "65846  4.069045e+08\n",
       "65847  1.500760e+09\n",
       "65848  4.343840e+08\n",
       "65849  4.218158e+08\n",
       "\n",
       "[65850 rows x 1 columns]"
      ]
     },
     "execution_count": 212,
     "metadata": {},
     "output_type": "execute_result"
    }
   ],
   "source": [
    "# Verificando estructura de la columna\n",
    "y_pred_lineal"
   ]
  },
  {
   "cell_type": "code",
   "execution_count": 213,
   "metadata": {},
   "outputs": [],
   "source": [
    "# Aplicando la condición de transforma en 0 y 1 los precios, y determinar su la propiedad es cara o barata\n",
    "y_pred_lineal['target'] = [1 if p > data_train_mean else 0 for p in y_pred_lineal ['price']]"
   ]
  },
  {
   "cell_type": "code",
   "execution_count": 214,
   "metadata": {},
   "outputs": [
    {
     "data": {
      "text/plain": [
       "0        1\n",
       "1        0\n",
       "2        0\n",
       "3        1\n",
       "4        0\n",
       "        ..\n",
       "65845    0\n",
       "65846    0\n",
       "65847    1\n",
       "65848    0\n",
       "65849    0\n",
       "Name: target, Length: 65850, dtype: int64"
      ]
     },
     "execution_count": 214,
     "metadata": {},
     "output_type": "execute_result"
    }
   ],
   "source": [
    "# Verificando los resultados de la transformación\n",
    "y_pred_lineal['target']"
   ]
  },
  {
   "cell_type": "code",
   "execution_count": 217,
   "metadata": {},
   "outputs": [],
   "source": [
    "# Creando el archivo .csv con los resultados de la columna target\n",
    "y_pred_lineal['target'].to_csv('Karen-CG.csv', index = False)"
   ]
  },
  {
   "cell_type": "code",
   "execution_count": 177,
   "metadata": {},
   "outputs": [
    {
     "data": {
      "text/plain": [
       "array([0.06083332, 0.21455785, 0.22425504, 0.20204194])"
      ]
     },
     "execution_count": 177,
     "metadata": {},
     "output_type": "execute_result"
    }
   ],
   "source": [
    "#Probamos en las primeras 4 lineas del test\n",
    "muestra_datos = X_test.iloc[:4]\n",
    "linear_regression.predict(muestra_datos)"
   ]
  },
  {
   "cell_type": "code",
   "execution_count": 178,
   "metadata": {},
   "outputs": [
    {
     "data": {
      "text/plain": [
       "[0, 0, 0, 0]"
      ]
     },
     "execution_count": 178,
     "metadata": {},
     "output_type": "execute_result"
    }
   ],
   "source": [
    "# Comparamos con valores reales\n",
    "list(y_test.iloc[:4])\n"
   ]
  },
  {
   "cell_type": "markdown",
   "metadata": {},
   "source": [
    "Transformaciones del dataset de test, para poder ingresarlos al modelo seleccionado"
   ]
  },
  {
   "cell_type": "markdown",
   "metadata": {},
   "source": [
    "#"
   ]
  },
  {
   "cell_type": "code",
   "execution_count": 188,
   "metadata": {},
   "outputs": [
    {
     "data": {
      "text/html": [
       "<div>\n",
       "<style scoped>\n",
       "    .dataframe tbody tr th:only-of-type {\n",
       "        vertical-align: middle;\n",
       "    }\n",
       "\n",
       "    .dataframe tbody tr th {\n",
       "        vertical-align: top;\n",
       "    }\n",
       "\n",
       "    .dataframe thead th {\n",
       "        text-align: right;\n",
       "    }\n",
       "</style>\n",
       "<table border=\"1\" class=\"dataframe\">\n",
       "  <thead>\n",
       "    <tr style=\"text-align: right;\">\n",
       "      <th></th>\n",
       "      <th>Unnamed: 0</th>\n",
       "      <th>id</th>\n",
       "      <th>ad_type</th>\n",
       "      <th>start_date</th>\n",
       "      <th>end_date</th>\n",
       "      <th>created_on</th>\n",
       "      <th>lat</th>\n",
       "      <th>lon</th>\n",
       "      <th>l1</th>\n",
       "      <th>l2</th>\n",
       "      <th>...</th>\n",
       "      <th>bathrooms</th>\n",
       "      <th>surface_total</th>\n",
       "      <th>surface_covered</th>\n",
       "      <th>currency</th>\n",
       "      <th>price_period</th>\n",
       "      <th>title</th>\n",
       "      <th>description</th>\n",
       "      <th>property_type</th>\n",
       "      <th>operation_type</th>\n",
       "      <th>geometry</th>\n",
       "    </tr>\n",
       "  </thead>\n",
       "  <tbody>\n",
       "    <tr>\n",
       "      <th>0</th>\n",
       "      <td>852569</td>\n",
       "      <td>pCiVu6rxpBq9dCZfYCXXgA==</td>\n",
       "      <td>Propiedad</td>\n",
       "      <td>2020-09-04</td>\n",
       "      <td>2020-09-12</td>\n",
       "      <td>2020-09-04</td>\n",
       "      <td>4.722</td>\n",
       "      <td>-74.075</td>\n",
       "      <td>Colombia</td>\n",
       "      <td>Cundinamarca</td>\n",
       "      <td>...</td>\n",
       "      <td>3.0</td>\n",
       "      <td>660.0</td>\n",
       "      <td>350.0</td>\n",
       "      <td>COP</td>\n",
       "      <td>NaN</td>\n",
       "      <td>Casa En Arriendo/venta En Bogota Sotileza Cod....</td>\n",
       "      <td>EXCLUSIVA CASA EN VENTA Y ARRIENDO, UBICADA EN...</td>\n",
       "      <td>Casa</td>\n",
       "      <td>Venta</td>\n",
       "      <td>POINT (-74.075 4.722)</td>\n",
       "    </tr>\n",
       "    <tr>\n",
       "      <th>1</th>\n",
       "      <td>121379</td>\n",
       "      <td>L0XSQ7mF1TWb1lHRg4n2+A==</td>\n",
       "      <td>Propiedad</td>\n",
       "      <td>2020-10-20</td>\n",
       "      <td>2020-10-20</td>\n",
       "      <td>2020-10-20</td>\n",
       "      <td>NaN</td>\n",
       "      <td>NaN</td>\n",
       "      <td>Colombia</td>\n",
       "      <td>Antioquia</td>\n",
       "      <td>...</td>\n",
       "      <td>3.0</td>\n",
       "      <td>NaN</td>\n",
       "      <td>NaN</td>\n",
       "      <td>COP</td>\n",
       "      <td>Mensual</td>\n",
       "      <td>SE VENDE APARTAMENTO EN EL SECTOR DE ZUÑIGA-EN...</td>\n",
       "      <td>PR 7555. Apartamento Duplex en unidad cerrada,...</td>\n",
       "      <td>Apartamento</td>\n",
       "      <td>Venta</td>\n",
       "      <td>POINT EMPTY</td>\n",
       "    </tr>\n",
       "  </tbody>\n",
       "</table>\n",
       "<p>2 rows × 26 columns</p>\n",
       "</div>"
      ],
      "text/plain": [
       "   Unnamed: 0                        id    ad_type  start_date    end_date  \\\n",
       "0      852569  pCiVu6rxpBq9dCZfYCXXgA==  Propiedad  2020-09-04  2020-09-12   \n",
       "1      121379  L0XSQ7mF1TWb1lHRg4n2+A==  Propiedad  2020-10-20  2020-10-20   \n",
       "\n",
       "   created_on    lat     lon        l1            l2  ... bathrooms  \\\n",
       "0  2020-09-04  4.722 -74.075  Colombia  Cundinamarca  ...       3.0   \n",
       "1  2020-10-20    NaN     NaN  Colombia     Antioquia  ...       3.0   \n",
       "\n",
       "  surface_total surface_covered currency  price_period  \\\n",
       "0         660.0           350.0      COP           NaN   \n",
       "1           NaN             NaN      COP       Mensual   \n",
       "\n",
       "                                               title  \\\n",
       "0  Casa En Arriendo/venta En Bogota Sotileza Cod....   \n",
       "1  SE VENDE APARTAMENTO EN EL SECTOR DE ZUÑIGA-EN...   \n",
       "\n",
       "                                         description  property_type  \\\n",
       "0  EXCLUSIVA CASA EN VENTA Y ARRIENDO, UBICADA EN...           Casa   \n",
       "1  PR 7555. Apartamento Duplex en unidad cerrada,...    Apartamento   \n",
       "\n",
       "   operation_type               geometry  \n",
       "0           Venta  POINT (-74.075 4.722)  \n",
       "1           Venta            POINT EMPTY  \n",
       "\n",
       "[2 rows x 26 columns]"
      ]
     },
     "execution_count": 188,
     "metadata": {},
     "output_type": "execute_result"
    }
   ],
   "source": [
    "#Para el archivo de datos del Test vamos a tomar las mismas columnas y aplicaremos la transformaciones necesarias\n",
    "# X2 = data_train[['l2', 'l3','property_type']]\n",
    "data_test.head(2)\n"
   ]
  },
  {
   "cell_type": "code",
   "execution_count": 189,
   "metadata": {},
   "outputs": [],
   "source": [
    "# Se colocan NA en caso de existir valores vacios\n",
    "data_test.l2.replace(np.nan, 'NA', inplace = True)\n",
    "data_test.l3.replace(np.nan, 'NA', inplace = True)\n",
    "data_test.property_type.replace(np.nan, 'NA', inplace = True)"
   ]
  },
  {
   "cell_type": "code",
   "execution_count": 190,
   "metadata": {},
   "outputs": [],
   "source": [
    "# Transformamos las variables categoricas en númericas\n",
    "from sklearn import preprocessing\n",
    "\n",
    "label_encoder = preprocessing.LabelEncoder()\n",
    "  \n",
    "data_test['l2'] = label_encoder.fit_transform(data_test['l2'])\n",
    "data_test['l3'] = label_encoder.fit_transform(data_test['l3'])\n",
    "data_test['property_type'] = label_encoder.fit_transform(data_test['property_type'])"
   ]
  },
  {
   "cell_type": "code",
   "execution_count": 191,
   "metadata": {},
   "outputs": [],
   "source": [
    "# Creamos la matriz que ingresara al modelo seleccionado\n",
    "X2 = data_test[['l2', 'l3','property_type']]"
   ]
  },
  {
   "cell_type": "code",
   "execution_count": 192,
   "metadata": {},
   "outputs": [
    {
     "name": "stderr",
     "output_type": "stream",
     "text": [
      "c:\\Users\\Polaris Coneja\\AppData\\Local\\Programs\\Python\\Python310\\lib\\site-packages\\sklearn\\base.py:450: UserWarning: X does not have valid feature names, but DecisionTreeRegressor was fitted with feature names\n",
      "  warnings.warn(\n"
     ]
    }
   ],
   "source": [
    "# Predecimos\n",
    "y_pred = tree_reg.predict(X2.values)"
   ]
  },
  {
   "cell_type": "markdown",
   "metadata": {},
   "source": [
    "### Evaluación del modelo"
   ]
  },
  {
   "cell_type": "code",
   "execution_count": 221,
   "metadata": {},
   "outputs": [
    {
     "data": {
      "text/plain": [
       "array([-3.24370784e+18, -3.09240849e+18, -2.13162107e+18, -1.91245116e+18,\n",
       "       -3.14328956e+18, -8.09902020e+18, -2.38374865e+18, -2.48559570e+18,\n",
       "       -2.87753159e+18, -7.19099353e+18])"
      ]
     },
     "execution_count": 221,
     "metadata": {},
     "output_type": "execute_result"
    }
   ],
   "source": [
    "from sklearn.model_selection import cross_val_score \n",
    "\n",
    "linear_score = cross_val_score(linear_regression, X, y, scoring= 'neg_mean_squared_error', cv = 10)\n",
    "linear_score"
   ]
  },
  {
   "cell_type": "code",
   "execution_count": 222,
   "metadata": {},
   "outputs": [
    {
     "data": {
      "text/plain": [
       "array([1.80102966e+09, 1.75852452e+09, 1.46000722e+09, 1.38291401e+09,\n",
       "       1.77293247e+09, 2.84587776e+09, 1.54393933e+09, 1.57657721e+09,\n",
       "       1.69632886e+09, 2.68160279e+09])"
      ]
     },
     "execution_count": 222,
     "metadata": {},
     "output_type": "execute_result"
    }
   ],
   "source": [
    "# Cambiando signo y sacando la raiz\n",
    "linear_rmse_scores = np.sqrt(-linear_score)\n",
    "linear_rmse_scores"
   ]
  },
  {
   "cell_type": "code",
   "execution_count": 223,
   "metadata": {},
   "outputs": [],
   "source": [
    "# Función para definir la media y la desvición estándar\n",
    "def get_scores (scores):\n",
    "    print('Scores: ', scores)\n",
    "    print('La media es', scores.mean())\n",
    "    print('La desviación estándar: ', scores.std())"
   ]
  },
  {
   "cell_type": "code",
   "execution_count": 224,
   "metadata": {},
   "outputs": [
    {
     "name": "stdout",
     "output_type": "stream",
     "text": [
      "Scores:  [1.80102966e+09 1.75852452e+09 1.46000722e+09 1.38291401e+09\n",
      " 1.77293247e+09 2.84587776e+09 1.54393933e+09 1.57657721e+09\n",
      " 1.69632886e+09 2.68160279e+09]\n",
      "La media es 1851973383.031119\n",
      "La desviación estándar:  475637855.13036174\n"
     ]
    }
   ],
   "source": [
    "# Mostrando medidas estadísticas del modelo obtenido\n",
    "get_scores(linear_rmse_scores)"
   ]
  },
  {
   "cell_type": "code",
   "execution_count": 229,
   "metadata": {},
   "outputs": [
    {
     "name": "stdout",
     "output_type": "stream",
     "text": [
      "Raíz del error cuadrático medio en Train: 1987396857.7738094\n",
      "Raíz del error cuadrático medio en Test: 1723457954.8240013\n"
     ]
    }
   ],
   "source": [
    "from sklearn.metrics import mean_squared_error\n",
    "\n",
    "y_train_pred = linear_regression.predict(X_train)\n",
    "y_test_pred = linear_regression.predict(X_test)\n",
    "\n",
    "rmse_train = np.sqrt(mean_squared_error(y_train, y_train_pred))\n",
    "rmse_test = np.sqrt(mean_squared_error(y_test, y_test_pred))\n",
    "print(f'Raíz del error cuadrático medio en Train: {rmse_train}')\n",
    "print(f'Raíz del error cuadrático medio en Test: {rmse_test}')"
   ]
  },
  {
   "cell_type": "code",
   "execution_count": 230,
   "metadata": {},
   "outputs": [
    {
     "name": "stderr",
     "output_type": "stream",
     "text": [
      "c:\\Users\\Polaris Coneja\\AppData\\Local\\Programs\\Python\\Python310\\lib\\site-packages\\seaborn\\distributions.py:2619: FutureWarning: `distplot` is a deprecated function and will be removed in a future version. Please adapt your code to use either `displot` (a figure-level function with similar flexibility) or `histplot` (an axes-level function for histograms).\n",
      "  warnings.warn(msg, FutureWarning)\n",
      "c:\\Users\\Polaris Coneja\\AppData\\Local\\Programs\\Python\\Python310\\lib\\site-packages\\seaborn\\distributions.py:2619: FutureWarning: `distplot` is a deprecated function and will be removed in a future version. Please adapt your code to use either `displot` (a figure-level function with similar flexibility) or `histplot` (an axes-level function for histograms).\n",
      "  warnings.warn(msg, FutureWarning)\n"
     ]
    },
    {
     "data": {
      "image/png": "[encoded data removed]",
      "text/plain": [
       "<Figure size 864x360 with 2 Axes>"
      ]
     },
     "metadata": {
      "needs_background": "light"
     },
     "output_type": "display_data"
    }
   ],
   "source": [
    "plt.figure(figsize = (12,5))\n",
    "\n",
    "plt.subplot(1,2,1)\n",
    "plt.title('Histograma de errores')\n",
    "sn.distplot(y_train - y_train_pred, bins = 20, label = 'train')\n",
    "sn.distplot(y_test - y_test_pred, bins = 20, label = 'test')\n",
    "plt.xlabel('errores')\n",
    "plt.legend()\n",
    "\n",
    "ax = plt.subplot(1,2,2)\n",
    "plt.title('Y real vs Y predicho')\n",
    "ax.scatter(y_test,y_test_pred, s =2, label = 'Y real')\n",
    "lims = [\n",
    "np.min([ax.get_xlim(), ax.get_ylim()]),  # min of both axes\n",
    "np.max([ax.get_xlim(), ax.get_ylim()]),  # max of both axes]\n",
    "]\n",
    "\n",
    "ax.plot(lims, lims, 'k-', alpha=0.75, zorder=0, label = 'Y predicho')\n",
    "plt.xlabel('y (test)')\n",
    "plt.ylabel('y_pred (test)')\n",
    "\n",
    "plt.legend()\n",
    "plt.tight_layout()\n",
    "plt.show()"
   ]
  }
 ],
 "metadata": {
  "kernelspec": {
   "display_name": "Python 3.10.5 64-bit",
   "language": "python",
   "name": "python3"
  },
  "language_info": {
   "codemirror_mode": {
    "name": "ipython",
    "version": 3
   },
   "file_extension": ".py",
   "mimetype": "text/x-python",
   "name": "python",
   "nbconvert_exporter": "python",
   "pygments_lexer": "ipython3",
   "version": "3.10.5"
  },
  "orig_nbformat": 4,
  "vscode": {
   "interpreter": {
    "hash": "11b4a54ce2e7e39ac9d65fd6e51cac84c084cf4c2c39241ad44e40be6a3ec2f4"
   }
  }
 },
 "nbformat": 4,
 "nbformat_minor": 2
}
